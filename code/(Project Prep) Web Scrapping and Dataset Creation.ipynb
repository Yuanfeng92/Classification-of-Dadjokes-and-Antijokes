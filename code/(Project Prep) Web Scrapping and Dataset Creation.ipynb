{
 "cells": [
  {
   "cell_type": "markdown",
   "metadata": {},
   "source": [
    "# Scrap Data from Reddit and Combine Scrapped Files\n",
    "This notebook is to scrap the data from the r/dadjokes and r/antijokes subreddit and combine them into csv format. The final csv will only keep relevant information needed for NLP analysis and machine learning to classify between dadjokes and antijokes."
   ]
  },
  {
   "cell_type": "code",
   "execution_count": 1,
   "metadata": {
    "ExecuteTime": {
     "end_time": "2020-12-04T11:33:46.919660Z",
     "start_time": "2020-12-04T11:33:46.382988Z"
    }
   },
   "outputs": [],
   "source": [
    "import requests\n",
    "import pandas as pd\n",
    "import time\n",
    "import random\n",
    "import glob\n",
    "from datetime import date, datetime"
   ]
  },
  {
   "cell_type": "markdown",
   "metadata": {},
   "source": [
    "## Scrapping Reddit Pages"
   ]
  },
  {
   "cell_type": "code",
   "execution_count": 2,
   "metadata": {
    "ExecuteTime": {
     "end_time": "2020-12-04T11:33:46.935648Z",
     "start_time": "2020-12-04T11:33:46.921657Z"
    }
   },
   "outputs": [],
   "source": [
    "# create a reddit scrapper function\n",
    "# the function takes in a topic and will scrap records/posts from the topic (subreddit)\n",
    "def scrap_reddit(topic, n=100):\n",
    "    \n",
    "    i = 1\n",
    "    \n",
    "    # the function will scrap the hot, top and rising posts to gather more posts\n",
    "    # other categories such as new will not be scrapped as it might not be representative of the subreddit\n",
    "    categories = ['hot', 'top', 'rising']\n",
    "\n",
    "    for category in categories:\n",
    "        \n",
    "        posts = []\n",
    "        after = None\n",
    "\n",
    "        url = f'https://www.reddit.com/r/{topic}/{category}.json'\n",
    "        \n",
    "        # print the progress - which category it is running\n",
    "        print(f'Starting No. {i} Run - Category: {category}')\n",
    "        print('------------------------------------------------')\n",
    "\n",
    "        for n in range(n):\n",
    "            if n == 0:\n",
    "                current_url = url\n",
    "            else:\n",
    "                if after != None:\n",
    "                    current_url = url + '?after=' + after\n",
    "                else:\n",
    "                    print(f'Stopping after {n+1} Pages, reached the end of website')\n",
    "                    print(current_url)\n",
    "                    break\n",
    "            \n",
    "            res = requests.get(current_url, headers={'User-agent': 'Pony Inc 45812'})\n",
    "\n",
    "            if res.status_code != 200:\n",
    "                print('Status error', res.status_code)\n",
    "                break\n",
    "\n",
    "            current_dict = res.json()\n",
    "            current_posts = [p['data']for p in current_dict['data']['children']]\n",
    "            posts.extend(current_posts)\n",
    "            previous = after\n",
    "            after = current_dict['data']['after']\n",
    "            \n",
    "            if after == previous:\n",
    "                print(f'The next url will be the same as current url - {current_url}')\n",
    "                break\n",
    "            \n",
    "            # generate a random sleep duration to look more 'natural'\n",
    "            sleep_duration = random.randint(2, 5)\n",
    "            time.sleep(sleep_duration)\n",
    "            \n",
    "            # print the progress - how many page it has scrapped\n",
    "            print(f'{category.capitalize()} Category: Page {n+1} Completed')\n",
    "        \n",
    "        # convert the scrapped data to a dataframe and save it to csv\n",
    "        # named by topic_date_category for easy reference\n",
    "        df = pd.DataFrame(posts)\n",
    "        today = date.today().strftime(\"%d_%b\")\n",
    "        df.to_csv(f'../datasets/scrapped/{topic}_{today}_{category}.csv', index=False)\n",
    "        \n",
    "\n",
    "        print(f'{i}/{len(categories)} Completed Category: {category}')\n",
    "        print('------------------------------------------------')\n",
    "        print('------------------------------------------------\\n')\n",
    "        \n",
    "        i += 1"
   ]
  },
  {
   "cell_type": "code",
   "execution_count": null,
   "metadata": {},
   "outputs": [],
   "source": [
    "# scrap data for r/dadjokes\n",
    "\n",
    "# scrap_reddit('dadjokes', n = 100)"
   ]
  },
  {
   "cell_type": "code",
   "execution_count": null,
   "metadata": {
    "ExecuteTime": {
     "end_time": "2020-12-04T11:33:18.448872Z",
     "start_time": "2020-12-04T11:32:56.613Z"
    }
   },
   "outputs": [],
   "source": [
    "# scrap data for r/antijokes\n",
    "\n",
    "# scrap_reddit('antijokes', n = 100)"
   ]
  },
  {
   "cell_type": "markdown",
   "metadata": {},
   "source": [
    "## Combining the Scrapped Data\n",
    "The scrapped data are sitting in different csv files. This step will combine the different csv files by topic and keep only the necessary features/columns for data analysis."
   ]
  },
  {
   "cell_type": "code",
   "execution_count": 3,
   "metadata": {
    "ExecuteTime": {
     "end_time": "2020-12-04T11:33:46.951638Z",
     "start_time": "2020-12-04T11:33:46.937647Z"
    }
   },
   "outputs": [],
   "source": [
    "# define a function to create the dataframe using the scrapped csv\n",
    "def create_df(topic):\n",
    "    \n",
    "    # find the directory of the csv files with the topic\n",
    "    list_of_csvfiles = glob.glob(f'../datasets/scrapped/{topic}*.csv')\n",
    "    \n",
    "    # create a list of the columns to be kept - title, post (selftext) and subreddit (target)\n",
    "    # i am also keeping url so that i can refer to the actual post if needed\n",
    "    features_kept = ['subreddit', 'title', 'selftext', 'url']\n",
    "    \n",
    "    # open the csv and combine into 1 dataframe keeping only the columns selected\n",
    "    for i, csv_file in enumerate(list_of_csvfiles):\n",
    "        \n",
    "        if i == 0:\n",
    "            df = pd.read_csv(csv_file)\n",
    "            topic_df = df[features_kept].copy()            \n",
    "            \n",
    "        else:\n",
    "            df = pd.read_csv(csv_file)\n",
    "            df = df[features_kept]\n",
    "            \n",
    "            topic_df = pd.concat([topic_df, df])\n",
    "        \n",
    "        print(f'Completed: {csv_file}')\n",
    "        \n",
    "    # drop any rows that have the same title and post         \n",
    "    topic_df.drop_duplicates(['title', 'selftext'], inplace = True)\n",
    "    \n",
    "    # rename the columns for better understanding\n",
    "    topic_df.rename(columns={\n",
    "        'title': 'original_title',\n",
    "        'selftext': 'original_post',\n",
    "    }, inplace=True)\n",
    "\n",
    "    return topic_df"
   ]
  },
  {
   "cell_type": "code",
   "execution_count": 4,
   "metadata": {
    "ExecuteTime": {
     "end_time": "2020-12-04T11:33:46.966628Z",
     "start_time": "2020-12-04T11:33:46.953637Z"
    }
   },
   "outputs": [],
   "source": [
    "# define a function to save a dataframe into a csv with the time that it is created\n",
    "def save_to_csv(df, topic):\n",
    "    now = datetime.now().strftime(\"%d_%b_%H%M\")\n",
    "    df.to_csv(f'../datasets/{topic}_{now}_Combined.csv', index=False)"
   ]
  },
  {
   "cell_type": "code",
   "execution_count": 5,
   "metadata": {
    "ExecuteTime": {
     "end_time": "2020-12-04T11:33:47.125532Z",
     "start_time": "2020-12-04T11:33:46.968628Z"
    }
   },
   "outputs": [
    {
     "name": "stdout",
     "output_type": "stream",
     "text": [
      "Completed: ../datasets/scrapped\\antijokes_25_Nov_hot.csv\n",
      "Completed: ../datasets/scrapped\\antijokes_27_Nov_hot.csv\n",
      "Completed: ../datasets/scrapped\\antijokes_27_Nov_top.csv\n",
      "Completed: ../datasets/scrapped\\antijokes_29_Nov_hot.csv\n",
      "Completed: ../datasets/scrapped\\antijokes_29_Nov_top.csv\n"
     ]
    }
   ],
   "source": [
    "# create the dataframe for r/antijoke\n",
    "anti_df = create_df('antijoke')"
   ]
  },
  {
   "cell_type": "code",
   "execution_count": 6,
   "metadata": {
    "ExecuteTime": {
     "end_time": "2020-12-04T11:33:47.156512Z",
     "start_time": "2020-12-04T11:33:47.127530Z"
    }
   },
   "outputs": [
    {
     "data": {
      "text/html": [
       "<div>\n",
       "<style scoped>\n",
       "    .dataframe tbody tr th:only-of-type {\n",
       "        vertical-align: middle;\n",
       "    }\n",
       "\n",
       "    .dataframe tbody tr th {\n",
       "        vertical-align: top;\n",
       "    }\n",
       "\n",
       "    .dataframe thead th {\n",
       "        text-align: right;\n",
       "    }\n",
       "</style>\n",
       "<table border=\"1\" class=\"dataframe\">\n",
       "  <thead>\n",
       "    <tr style=\"text-align: right;\">\n",
       "      <th></th>\n",
       "      <th>subreddit</th>\n",
       "      <th>original_title</th>\n",
       "      <th>original_post</th>\n",
       "      <th>url</th>\n",
       "    </tr>\n",
       "  </thead>\n",
       "  <tbody>\n",
       "    <tr>\n",
       "      <th>0</th>\n",
       "      <td>AntiJokes</td>\n",
       "      <td>You know what they say about black guys in bed</td>\n",
       "      <td>they are in a bed</td>\n",
       "      <td>https://www.reddit.com/r/AntiJokes/comments/k0...</td>\n",
       "    </tr>\n",
       "    <tr>\n",
       "      <th>1</th>\n",
       "      <td>AntiJokes</td>\n",
       "      <td>What's an octopus' favorite month?</td>\n",
       "      <td>Despite being an extraordinarily brilliant spe...</td>\n",
       "      <td>https://www.reddit.com/r/AntiJokes/comments/k0...</td>\n",
       "    </tr>\n",
       "    <tr>\n",
       "      <th>2</th>\n",
       "      <td>AntiJokes</td>\n",
       "      <td>What do you call a melted snowman?</td>\n",
       "      <td>Water</td>\n",
       "      <td>https://www.reddit.com/r/AntiJokes/comments/k0...</td>\n",
       "    </tr>\n",
       "    <tr>\n",
       "      <th>3</th>\n",
       "      <td>AntiJokes</td>\n",
       "      <td>What did the ice cream say to the old man</td>\n",
       "      <td>Jesus fuck I just want an upvote I don’t even ...</td>\n",
       "      <td>https://www.reddit.com/r/AntiJokes/comments/jz...</td>\n",
       "    </tr>\n",
       "    <tr>\n",
       "      <th>4</th>\n",
       "      <td>AntiJokes</td>\n",
       "      <td>A bartender walks into a bar</td>\n",
       "      <td>He gets working</td>\n",
       "      <td>https://www.reddit.com/r/AntiJokes/comments/k0...</td>\n",
       "    </tr>\n",
       "  </tbody>\n",
       "</table>\n",
       "</div>"
      ],
      "text/plain": [
       "   subreddit                                  original_title  \\\n",
       "0  AntiJokes  You know what they say about black guys in bed   \n",
       "1  AntiJokes              What's an octopus' favorite month?   \n",
       "2  AntiJokes              What do you call a melted snowman?   \n",
       "3  AntiJokes       What did the ice cream say to the old man   \n",
       "4  AntiJokes                    A bartender walks into a bar   \n",
       "\n",
       "                                       original_post  \\\n",
       "0                                  they are in a bed   \n",
       "1  Despite being an extraordinarily brilliant spe...   \n",
       "2                                              Water   \n",
       "3  Jesus fuck I just want an upvote I don’t even ...   \n",
       "4                                    He gets working   \n",
       "\n",
       "                                                 url  \n",
       "0  https://www.reddit.com/r/AntiJokes/comments/k0...  \n",
       "1  https://www.reddit.com/r/AntiJokes/comments/k0...  \n",
       "2  https://www.reddit.com/r/AntiJokes/comments/k0...  \n",
       "3  https://www.reddit.com/r/AntiJokes/comments/jz...  \n",
       "4  https://www.reddit.com/r/AntiJokes/comments/k0...  "
      ]
     },
     "execution_count": 6,
     "metadata": {},
     "output_type": "execute_result"
    }
   ],
   "source": [
    "# check that the dataframe is correct\n",
    "anti_df.reset_index(drop = True, inplace = True)\n",
    "\n",
    "anti_df.head()"
   ]
  },
  {
   "cell_type": "code",
   "execution_count": 7,
   "metadata": {
    "ExecuteTime": {
     "end_time": "2020-12-04T11:33:47.188071Z",
     "start_time": "2020-12-04T11:33:47.158511Z"
    }
   },
   "outputs": [],
   "source": [
    "# save the dataframe to csv\n",
    "# save_to_csv(anti_df, 'antijokes')"
   ]
  },
  {
   "cell_type": "code",
   "execution_count": 8,
   "metadata": {
    "ExecuteTime": {
     "end_time": "2020-12-04T11:33:47.379950Z",
     "start_time": "2020-12-04T11:33:47.191067Z"
    },
    "scrolled": true
   },
   "outputs": [
    {
     "name": "stdout",
     "output_type": "stream",
     "text": [
      "Completed: ../datasets/scrapped\\dadjokes_25_Nov_hot.csv\n",
      "Completed: ../datasets/scrapped\\dadjokes_27_Nov_hot.csv\n",
      "Completed: ../datasets/scrapped\\dadjokes_27_Nov_rising.csv\n",
      "Completed: ../datasets/scrapped\\dadjokes_27_Nov_top.csv\n",
      "Completed: ../datasets/scrapped\\dadjokes_29_Nov_hot.csv\n",
      "Completed: ../datasets/scrapped\\dadjokes_29_Nov_rising.csv\n",
      "Completed: ../datasets/scrapped\\dadjokes_29_Nov_top.csv\n"
     ]
    }
   ],
   "source": [
    "# create the dataframe for r/dadjokes\n",
    "dad_df = create_df('dadjokes')"
   ]
  },
  {
   "cell_type": "code",
   "execution_count": 9,
   "metadata": {
    "ExecuteTime": {
     "end_time": "2020-12-04T11:33:47.394942Z",
     "start_time": "2020-12-04T11:33:47.382949Z"
    },
    "scrolled": true
   },
   "outputs": [
    {
     "data": {
      "text/html": [
       "<div>\n",
       "<style scoped>\n",
       "    .dataframe tbody tr th:only-of-type {\n",
       "        vertical-align: middle;\n",
       "    }\n",
       "\n",
       "    .dataframe tbody tr th {\n",
       "        vertical-align: top;\n",
       "    }\n",
       "\n",
       "    .dataframe thead th {\n",
       "        text-align: right;\n",
       "    }\n",
       "</style>\n",
       "<table border=\"1\" class=\"dataframe\">\n",
       "  <thead>\n",
       "    <tr style=\"text-align: right;\">\n",
       "      <th></th>\n",
       "      <th>subreddit</th>\n",
       "      <th>original_title</th>\n",
       "      <th>original_post</th>\n",
       "      <th>url</th>\n",
       "    </tr>\n",
       "  </thead>\n",
       "  <tbody>\n",
       "    <tr>\n",
       "      <th>0</th>\n",
       "      <td>dadjokes</td>\n",
       "      <td>We just found out my Grandpa is addicted to Vi...</td>\n",
       "      <td>No one is taking it harder than my Grandma.</td>\n",
       "      <td>https://www.reddit.com/r/dadjokes/comments/k0i...</td>\n",
       "    </tr>\n",
       "    <tr>\n",
       "      <th>1</th>\n",
       "      <td>dadjokes</td>\n",
       "      <td>What do you call a line of men waiting to get ...</td>\n",
       "      <td>A barberqueue</td>\n",
       "      <td>https://www.reddit.com/r/dadjokes/comments/k04...</td>\n",
       "    </tr>\n",
       "    <tr>\n",
       "      <th>2</th>\n",
       "      <td>dadjokes</td>\n",
       "      <td>Why is dark written with a K not a C?</td>\n",
       "      <td>Because you can't C in the dark</td>\n",
       "      <td>https://www.reddit.com/r/dadjokes/comments/k0j...</td>\n",
       "    </tr>\n",
       "    <tr>\n",
       "      <th>3</th>\n",
       "      <td>dadjokes</td>\n",
       "      <td>I watched Bohemian Rhapsody three times in a r...</td>\n",
       "      <td>It must be the high Mercury content.</td>\n",
       "      <td>https://www.reddit.com/r/dadjokes/comments/k0g...</td>\n",
       "    </tr>\n",
       "    <tr>\n",
       "      <th>4</th>\n",
       "      <td>dadjokes</td>\n",
       "      <td>I recently decided to learn sign language...</td>\n",
       "      <td>So that I can tell jokes nobody has ever heard.</td>\n",
       "      <td>https://www.reddit.com/r/dadjokes/comments/k04...</td>\n",
       "    </tr>\n",
       "  </tbody>\n",
       "</table>\n",
       "</div>"
      ],
      "text/plain": [
       "  subreddit                                     original_title  \\\n",
       "0  dadjokes  We just found out my Grandpa is addicted to Vi...   \n",
       "1  dadjokes  What do you call a line of men waiting to get ...   \n",
       "2  dadjokes              Why is dark written with a K not a C?   \n",
       "3  dadjokes  I watched Bohemian Rhapsody three times in a r...   \n",
       "4  dadjokes       I recently decided to learn sign language...   \n",
       "\n",
       "                                     original_post  \\\n",
       "0      No one is taking it harder than my Grandma.   \n",
       "1                                    A barberqueue   \n",
       "2                  Because you can't C in the dark   \n",
       "3             It must be the high Mercury content.   \n",
       "4  So that I can tell jokes nobody has ever heard.   \n",
       "\n",
       "                                                 url  \n",
       "0  https://www.reddit.com/r/dadjokes/comments/k0i...  \n",
       "1  https://www.reddit.com/r/dadjokes/comments/k04...  \n",
       "2  https://www.reddit.com/r/dadjokes/comments/k0j...  \n",
       "3  https://www.reddit.com/r/dadjokes/comments/k0g...  \n",
       "4  https://www.reddit.com/r/dadjokes/comments/k04...  "
      ]
     },
     "execution_count": 9,
     "metadata": {},
     "output_type": "execute_result"
    }
   ],
   "source": [
    "# check that the dataframe is correct\n",
    "dad_df.reset_index(drop = True, inplace = True)\n",
    "\n",
    "dad_df.head()"
   ]
  },
  {
   "cell_type": "code",
   "execution_count": 10,
   "metadata": {
    "ExecuteTime": {
     "end_time": "2020-12-04T11:33:47.426921Z",
     "start_time": "2020-12-04T11:33:47.397940Z"
    }
   },
   "outputs": [],
   "source": [
    "# save the dataframe to csv\n",
    "# save_to_csv(dad_df, 'dadjokes')"
   ]
  }
 ],
 "metadata": {
  "kernelspec": {
   "display_name": "Python 3",
   "language": "python",
   "name": "python3"
  },
  "language_info": {
   "codemirror_mode": {
    "name": "ipython",
    "version": 3
   },
   "file_extension": ".py",
   "mimetype": "text/x-python",
   "name": "python",
   "nbconvert_exporter": "python",
   "pygments_lexer": "ipython3",
   "version": "3.7.9"
  },
  "toc": {
   "base_numbering": 1,
   "nav_menu": {},
   "number_sections": false,
   "sideBar": true,
   "skip_h1_title": false,
   "title_cell": "Table of Contents",
   "title_sidebar": "Contents",
   "toc_cell": false,
   "toc_position": {
    "height": "calc(100% - 180px)",
    "left": "10px",
    "top": "150px",
    "width": "384px"
   },
   "toc_section_display": true,
   "toc_window_display": true
  }
 },
 "nbformat": 4,
 "nbformat_minor": 2
}
