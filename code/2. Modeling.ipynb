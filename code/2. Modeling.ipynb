{
 "cells": [
  {
   "cell_type": "markdown",
   "metadata": {},
   "source": [
    "# Modeling\n",
    "In this notebook, I will test different models on the datasets to find an optimal model for classification of dadjokes and antijokes.\n",
    "\n",
    "### Contents\n",
    "- [Import Libraries and Dataset](#Import-Libraries-and-Dataset)\n",
    "- [Prepare Data for NLP Modeling](#Prepare-Data-for-NLP-Modeling)\n",
    "- [Choosing Classification Models](#Choosing-Classification-Models)\n",
    "- [Defining Common Functions](#Defining-Common-Functions)\n",
    "- [Modeling Using CountVectorizer](#Modeling-Using-CountVectorizer)\n",
    "    - [Without Hyperparameter Tuning](#Without-Hyperparameter-Tuning)\n",
    "    - [ With Hyperparameter Tuning](#With-Hyperparameter-Tuning)\n",
    "    - [Statistics of Models using CountVectorizer](#Statistics-of-Models-using-CountVectorizer)\n",
    "- [Modeling Using TfidfVectorizer](#Modeling-Using-TfidfVectorizer)\n",
    "    - [Without Hyperparameter Tuning](#Without-Hyperparameter-Tuning)\n",
    "    - [With Hyperparameter Tuning](#With-Hyperparameter-Tuning)\n",
    "    - [Statistics of Models using TfidfVectorizer](#Statistics-of-Models-using-TfidfVectorizer)\n",
    "- [All Models Statistics](#All-Models-Statistics)\n",
    "- [Production Model](#Production-Model)\n",
    "- [Conclusion and Business Impact](#Conclusion-and-Business-Impact)\n"
   ]
  },
  {
   "cell_type": "markdown",
   "metadata": {},
   "source": [
    "##  Import Libraries and Dataset"
   ]
  },
  {
   "cell_type": "code",
   "execution_count": 1,
   "metadata": {
    "ExecuteTime": {
     "end_time": "2020-12-06T09:30:07.831382Z",
     "start_time": "2020-12-06T09:30:05.202592Z"
    }
   },
   "outputs": [],
   "source": [
    "import pandas as pd\n",
    "import numpy as np\n",
    "import matplotlib.pyplot as plt\n",
    "import seaborn as sns\n",
    "\n",
    "sns.set_style(\"white\")\n",
    "\n",
    "from sklearn.model_selection import train_test_split, cross_val_score\n",
    "from sklearn.pipeline import Pipeline\n",
    "from sklearn.feature_extraction.text import CountVectorizer, TfidfVectorizer\n",
    "from sklearn.model_selection import GridSearchCV, RandomizedSearchCV\n",
    "from sklearn.metrics import confusion_matrix, plot_confusion_matrix, accuracy_score, f1_score, recall_score, precision_score\n",
    "\n",
    "from sklearn.linear_model import LogisticRegression\n",
    "from sklearn.neighbors import KNeighborsClassifier\n",
    "from sklearn.naive_bayes import MultinomialNB\n",
    "from sklearn.tree import DecisionTreeClassifier\n",
    "from sklearn.ensemble import BaggingClassifier, RandomForestClassifier"
   ]
  },
  {
   "cell_type": "code",
   "execution_count": 2,
   "metadata": {
    "ExecuteTime": {
     "end_time": "2020-12-06T09:30:07.863362Z",
     "start_time": "2020-12-06T09:30:07.835381Z"
    }
   },
   "outputs": [],
   "source": [
    "dadjokes = pd.read_csv('../datasets/dadjokes_cleaned.csv')\n",
    "antijokes = pd.read_csv('../datasets/antijokes_cleaned.csv')"
   ]
  },
  {
   "cell_type": "markdown",
   "metadata": {},
   "source": [
    "## Prepare Data for NLP Modeling"
   ]
  },
  {
   "cell_type": "code",
   "execution_count": 3,
   "metadata": {
    "ExecuteTime": {
     "end_time": "2020-12-06T09:30:07.895274Z",
     "start_time": "2020-12-06T09:30:07.865362Z"
    }
   },
   "outputs": [
    {
     "data": {
      "text/html": [
       "<div>\n",
       "<style scoped>\n",
       "    .dataframe tbody tr th:only-of-type {\n",
       "        vertical-align: middle;\n",
       "    }\n",
       "\n",
       "    .dataframe tbody tr th {\n",
       "        vertical-align: top;\n",
       "    }\n",
       "\n",
       "    .dataframe thead th {\n",
       "        text-align: right;\n",
       "    }\n",
       "</style>\n",
       "<table border=\"1\" class=\"dataframe\">\n",
       "  <thead>\n",
       "    <tr style=\"text-align: right;\">\n",
       "      <th></th>\n",
       "      <th>subreddit</th>\n",
       "      <th>original_title</th>\n",
       "      <th>original_post</th>\n",
       "      <th>url</th>\n",
       "      <th>title</th>\n",
       "      <th>title_len</th>\n",
       "      <th>post</th>\n",
       "      <th>post_len</th>\n",
       "      <th>combined</th>\n",
       "      <th>target</th>\n",
       "    </tr>\n",
       "  </thead>\n",
       "  <tbody>\n",
       "    <tr>\n",
       "      <th>0</th>\n",
       "      <td>dadjokes</td>\n",
       "      <td>Why is all the toilet paper running out in sto...</td>\n",
       "      <td>It’s because of all the a**holes.</td>\n",
       "      <td>https://www.reddit.com/r/dadjokes/comments/jym...</td>\n",
       "      <td>why is all the toilet paper running out in store</td>\n",
       "      <td>10</td>\n",
       "      <td>it s because of all the a hole</td>\n",
       "      <td>8</td>\n",
       "      <td>why is all the toilet paper running out in sto...</td>\n",
       "      <td>1</td>\n",
       "    </tr>\n",
       "    <tr>\n",
       "      <th>1</th>\n",
       "      <td>dadjokes</td>\n",
       "      <td>A thief broke into a guy's house, stole his st...</td>\n",
       "      <td>… he was mugged.</td>\n",
       "      <td>https://www.reddit.com/r/dadjokes/comments/k0j...</td>\n",
       "      <td>a thief broke into a guy s house stole his stu...</td>\n",
       "      <td>21</td>\n",
       "      <td>he wa mugged</td>\n",
       "      <td>3</td>\n",
       "      <td>a thief broke into a guy s house stole his stu...</td>\n",
       "      <td>1</td>\n",
       "    </tr>\n",
       "    <tr>\n",
       "      <th>2</th>\n",
       "      <td>dadjokes</td>\n",
       "      <td>Why is it called a paternity test...</td>\n",
       "      <td>....and not pop quiz.</td>\n",
       "      <td>https://www.reddit.com/r/dadjokes/comments/k2x...</td>\n",
       "      <td>why is it called a paternity test</td>\n",
       "      <td>7</td>\n",
       "      <td>and not pop quiz</td>\n",
       "      <td>4</td>\n",
       "      <td>why is it called a paternity test and not pop ...</td>\n",
       "      <td>1</td>\n",
       "    </tr>\n",
       "    <tr>\n",
       "      <th>3</th>\n",
       "      <td>dadjokes</td>\n",
       "      <td>THE LAND MINE WAS A....</td>\n",
       "      <td>GROUND BREAKING DISCOVERY</td>\n",
       "      <td>https://www.reddit.com/r/dadjokes/comments/jxn...</td>\n",
       "      <td>the land mine wa a</td>\n",
       "      <td>5</td>\n",
       "      <td>ground breaking discovery</td>\n",
       "      <td>3</td>\n",
       "      <td>the land mine wa a ground breaking discovery</td>\n",
       "      <td>1</td>\n",
       "    </tr>\n",
       "    <tr>\n",
       "      <th>4</th>\n",
       "      <td>dadjokes</td>\n",
       "      <td>Did you hear about the color bomb?</td>\n",
       "      <td>Yeah it blue up.</td>\n",
       "      <td>https://www.reddit.com/r/dadjokes/comments/k1c...</td>\n",
       "      <td>did you hear about the color bomb</td>\n",
       "      <td>7</td>\n",
       "      <td>yeah it blue up</td>\n",
       "      <td>4</td>\n",
       "      <td>did you hear about the color bomb yeah it blue up</td>\n",
       "      <td>1</td>\n",
       "    </tr>\n",
       "  </tbody>\n",
       "</table>\n",
       "</div>"
      ],
      "text/plain": [
       "  subreddit                                     original_title  \\\n",
       "0  dadjokes  Why is all the toilet paper running out in sto...   \n",
       "1  dadjokes  A thief broke into a guy's house, stole his st...   \n",
       "2  dadjokes               Why is it called a paternity test...   \n",
       "3  dadjokes                            THE LAND MINE WAS A....   \n",
       "4  dadjokes                 Did you hear about the color bomb?   \n",
       "\n",
       "                       original_post  \\\n",
       "0  It’s because of all the a**holes.   \n",
       "1                   … he was mugged.   \n",
       "2              ....and not pop quiz.   \n",
       "3          GROUND BREAKING DISCOVERY   \n",
       "4                   Yeah it blue up.   \n",
       "\n",
       "                                                 url  \\\n",
       "0  https://www.reddit.com/r/dadjokes/comments/jym...   \n",
       "1  https://www.reddit.com/r/dadjokes/comments/k0j...   \n",
       "2  https://www.reddit.com/r/dadjokes/comments/k2x...   \n",
       "3  https://www.reddit.com/r/dadjokes/comments/jxn...   \n",
       "4  https://www.reddit.com/r/dadjokes/comments/k1c...   \n",
       "\n",
       "                                               title  title_len  \\\n",
       "0   why is all the toilet paper running out in store         10   \n",
       "1  a thief broke into a guy s house stole his stu...         21   \n",
       "2                  why is it called a paternity test          7   \n",
       "3                                 the land mine wa a          5   \n",
       "4                  did you hear about the color bomb          7   \n",
       "\n",
       "                             post  post_len  \\\n",
       "0  it s because of all the a hole         8   \n",
       "1                    he wa mugged         3   \n",
       "2                and not pop quiz         4   \n",
       "3       ground breaking discovery         3   \n",
       "4                 yeah it blue up         4   \n",
       "\n",
       "                                            combined  target  \n",
       "0  why is all the toilet paper running out in sto...       1  \n",
       "1  a thief broke into a guy s house stole his stu...       1  \n",
       "2  why is it called a paternity test and not pop ...       1  \n",
       "3       the land mine wa a ground breaking discovery       1  \n",
       "4  did you hear about the color bomb yeah it blue up       1  "
      ]
     },
     "execution_count": 3,
     "metadata": {},
     "output_type": "execute_result"
    }
   ],
   "source": [
    "# combine the antijokes and datajokes dataset into a ccombined dataset\n",
    "combined_df = pd.concat([dadjokes, antijokes])\n",
    "\n",
    "# reset the combined dataset's index\n",
    "combined_df.reset_index(drop=True, inplace=True)\n",
    "\n",
    "# create a column for the target\n",
    "# 1 if the row is dadjokes, 0 if the row is antijokes\n",
    "combined_df['target'] = combined_df['subreddit'].map({'dadjokes': 1, 'AntiJokes': 0})\n",
    "\n",
    "combined_df.head()"
   ]
  },
  {
   "cell_type": "code",
   "execution_count": 4,
   "metadata": {
    "ExecuteTime": {
     "end_time": "2020-12-06T09:30:07.911264Z",
     "start_time": "2020-12-06T09:30:07.897273Z"
    }
   },
   "outputs": [],
   "source": [
    "# create the X and y variables\n",
    "X = combined_df['combined'].copy()\n",
    "y = combined_df['target'].copy()"
   ]
  },
  {
   "cell_type": "code",
   "execution_count": 5,
   "metadata": {
    "ExecuteTime": {
     "end_time": "2020-12-06T09:30:07.927255Z",
     "start_time": "2020-12-06T09:30:07.913264Z"
    }
   },
   "outputs": [],
   "source": [
    "# train test split to create a training set and testing set to the test the model\n",
    "# stratify the split according to the target to have the same proportion of dadjokes and antijokes in both dataset\n",
    "X_train, X_test, y_train, y_test = train_test_split(X, y, test_size=0.2, random_state=11, stratify=y)"
   ]
  },
  {
   "cell_type": "code",
   "execution_count": 6,
   "metadata": {
    "ExecuteTime": {
     "end_time": "2020-12-06T09:30:07.959235Z",
     "start_time": "2020-12-06T09:30:07.929257Z"
    }
   },
   "outputs": [
    {
     "data": {
      "text/plain": [
       "1    0.500481\n",
       "0    0.499519\n",
       "Name: target, dtype: float64"
      ]
     },
     "execution_count": 6,
     "metadata": {},
     "output_type": "execute_result"
    }
   ],
   "source": [
    "# check the proportion of dadjokes and antijokes in training set\n",
    "y_train.value_counts(normalize=True)"
   ]
  },
  {
   "cell_type": "code",
   "execution_count": 7,
   "metadata": {
    "ExecuteTime": {
     "end_time": "2020-12-06T09:30:07.975226Z",
     "start_time": "2020-12-06T09:30:07.963234Z"
    }
   },
   "outputs": [
    {
     "data": {
      "text/plain": [
       "1    0.5\n",
       "0    0.5\n",
       "Name: target, dtype: float64"
      ]
     },
     "execution_count": 7,
     "metadata": {},
     "output_type": "execute_result"
    }
   ],
   "source": [
    "# check the proportion of dadjokes and antijokes in the testing set\n",
    "y_test.value_counts(normalize=True)"
   ]
  },
  {
   "cell_type": "markdown",
   "metadata": {},
   "source": [
    "The above also mean that if we were to predict all items as dadjokes, we will have an accuracy of 50%.\n",
    "\n",
    "Hence, the **baseline model has an accuracy of 50%**."
   ]
  },
  {
   "cell_type": "markdown",
   "metadata": {},
   "source": [
    "## Choosing Classification Models\n",
    "I will try the following models, which are suitable for **classification problems**:\n",
    "1. LogisticRegression\n",
    "2. KNeighborsClassifier\n",
    "3. DecisionTreeClassifier\n",
    "4. BaggingClassifier\n",
    "5. RandomForestClassifier\n",
    "6. AdaBoostClassifier\n",
    "\n",
    "\\\n",
    "**Classification Metric**\n",
    "\n",
    "For this project, I will be using **F1-score** as I am interested in obtaining:\n",
    "1. The **highest amount of accurately predicted dadjokes** (True Positives).\n",
    "2. The **least amount of inaccurately predicted dadjokes** (False Positives). Reason: Person sorting through the jokkes will have to spend less time looking through the antijokes.\n",
    "3. The least amount of inaccurately predicted antijokes (False Negatives). Reason: Might miss a good dadjoke if this is too high (although this is less important).\n",
    "\n",
    "As such, **F1-score**, which is the **harmonic mean of Precision and Recall**, is the best metric to optimize for the above and is chosen.\n",
    "\n",
    "\\\n",
    "I will also look at Accuracy, Recall, Precision separately.\n",
    "- Accuracy: All Accurate Prediction / All Predictions\n",
    "- **Precision (more important)**: True Positive / All Predicted Positives.\n",
    "- Recall (less important): True Positives / All Actual Positives."
   ]
  },
  {
   "cell_type": "code",
   "execution_count": 8,
   "metadata": {
    "ExecuteTime": {
     "end_time": "2020-12-06T09:30:09.870166Z",
     "start_time": "2020-12-06T09:30:07.979223Z"
    },
    "scrolled": true
   },
   "outputs": [
    {
     "data": {
      "text/html": [
       "<div>\n",
       "<style scoped>\n",
       "    .dataframe tbody tr th:only-of-type {\n",
       "        vertical-align: middle;\n",
       "    }\n",
       "\n",
       "    .dataframe tbody tr th {\n",
       "        vertical-align: top;\n",
       "    }\n",
       "\n",
       "    .dataframe thead th {\n",
       "        text-align: right;\n",
       "    }\n",
       "</style>\n",
       "<table border=\"1\" class=\"dataframe\">\n",
       "  <thead>\n",
       "    <tr style=\"text-align: right;\">\n",
       "      <th></th>\n",
       "      <th>Model</th>\n",
       "      <th>F1 Score</th>\n",
       "    </tr>\n",
       "  </thead>\n",
       "  <tbody>\n",
       "    <tr>\n",
       "      <th>0</th>\n",
       "      <td>Logistic Regression</td>\n",
       "      <td>0.6950</td>\n",
       "    </tr>\n",
       "    <tr>\n",
       "      <th>1</th>\n",
       "      <td>K Nearest Neighbors</td>\n",
       "      <td>0.5118</td>\n",
       "    </tr>\n",
       "    <tr>\n",
       "      <th>2</th>\n",
       "      <td>Multinomial NB</td>\n",
       "      <td>0.6396</td>\n",
       "    </tr>\n",
       "    <tr>\n",
       "      <th>3</th>\n",
       "      <td>Decision Tree</td>\n",
       "      <td>0.6207</td>\n",
       "    </tr>\n",
       "    <tr>\n",
       "      <th>4</th>\n",
       "      <td>Bag of Trees</td>\n",
       "      <td>0.6224</td>\n",
       "    </tr>\n",
       "    <tr>\n",
       "      <th>5</th>\n",
       "      <td>Random Forest</td>\n",
       "      <td>0.7212</td>\n",
       "    </tr>\n",
       "  </tbody>\n",
       "</table>\n",
       "</div>"
      ],
      "text/plain": [
       "                 Model  F1 Score\n",
       "0  Logistic Regression    0.6950\n",
       "1  K Nearest Neighbors    0.5118\n",
       "2       Multinomial NB    0.6396\n",
       "3        Decision Tree    0.6207\n",
       "4         Bag of Trees    0.6224\n",
       "5        Random Forest    0.7212"
      ]
     },
     "execution_count": 8,
     "metadata": {},
     "output_type": "execute_result"
    }
   ],
   "source": [
    "# create a dict of model \n",
    "model_dict = {\"Logistic Regression\": LogisticRegression(),\n",
    "              \"K Nearest Neighbors\": KNeighborsClassifier(),\n",
    "              \"Multinomial NB\": MultinomialNB(),\n",
    "              \"Decision Tree\": DecisionTreeClassifier(random_state = 11),\n",
    "              \"Bag of Trees\": BaggingClassifier(random_state = 11),\n",
    "              \"Random Forest\": RandomForestClassifier(random_state = 11),\n",
    "              }\n",
    "\n",
    "# create a temporary dictionary to store the results of the models\n",
    "temp_dict = {'Model': [],\n",
    "            'F1 Score': []}\n",
    "\n",
    "# loop through the models in the dictionary and run them in a pipeline with CountVectorizer\n",
    "for name, model in model_dict.items():\n",
    "    pipe = Pipeline([('cvec', CountVectorizer()),\n",
    "                     (name, model)])\n",
    "\n",
    "    pipe.fit(X_train, y_train)\n",
    "    \n",
    "    # find the f1 score of the model\n",
    "    score = f1_score(y_test, pipe.predict(X_test))\n",
    "    \n",
    "    # append the model and the f1 score to the dictionary\n",
    "    temp_dict['Model'].append(name)\n",
    "    temp_dict['F1 Score'].append(round(score, 4))\n",
    "\n",
    "pd.DataFrame(temp_dict)"
   ]
  },
  {
   "cell_type": "markdown",
   "metadata": {},
   "source": [
    "**Models to be Tested**\n",
    "\n",
    "Based on the results from the non-optimized models, the following models **produced better results**:\n",
    "1. Logistic Regression\n",
    "2. Multinominal Naive Bayes\n",
    "3. Random Forest (out of Tree Models)\n",
    "\n",
    "I will use the above 3 models for subsequent modeling. For each of the above model, I will:\n",
    "1. try **GridSearchCV (or RandomSearchCV)** to test effect of **different combination of hyperparameters**.\n",
    "2. carry out the modeling with **both CountVectorizer and TfidfVectorizer** to see which text vectorizer will produce a better result.\n",
    "\n",
    "During GridSearch, I will try to reduce the overfitting in the model by trying different values for hyperparameters."
   ]
  },
  {
   "cell_type": "markdown",
   "metadata": {},
   "source": [
    "## Defining Common Functions"
   ]
  },
  {
   "cell_type": "code",
   "execution_count": 9,
   "metadata": {
    "ExecuteTime": {
     "end_time": "2020-12-06T09:30:09.885159Z",
     "start_time": "2020-12-06T09:30:09.872166Z"
    }
   },
   "outputs": [],
   "source": [
    "# create a function that runs GridSearchCV on a model/pipeline\n",
    "\n",
    "def run_gridsearch(model, params):\n",
    "    \n",
    "    '''\n",
    "    function to run GridSearchCV given a model and a list of parameters\n",
    "    prints the best parameters\n",
    "    returns the best estimator\n",
    "    '''\n",
    "    \n",
    "    # scoring set to f1-score\n",
    "    grid = GridSearchCV(model,\n",
    "                        param_grid=params,\n",
    "                        scoring='f1',\n",
    "                        n_jobs=-2,\n",
    "                        cv=5,\n",
    "                        verbose=0)\n",
    "\n",
    "    grid.fit(X_train, y_train)\n",
    "\n",
    "    print(grid.best_params_)\n",
    "\n",
    "    best_model = grid.best_estimator_\n",
    "\n",
    "    return best_model"
   ]
  },
  {
   "cell_type": "code",
   "execution_count": 10,
   "metadata": {
    "ExecuteTime": {
     "end_time": "2020-12-06T09:30:09.900148Z",
     "start_time": "2020-12-06T09:30:09.887157Z"
    }
   },
   "outputs": [],
   "source": [
    "# create a function that runs a RandomizedSearchCV on a model/pipeline\n",
    "# used if there are too many combinations of hyperparameters\n",
    "\n",
    "def run_randsearch(model, params, combi):\n",
    "\n",
    "    '''\n",
    "    function to run RandomizedSearchCV given a model and a list of parameters\n",
    "    prints the best parameters\n",
    "    returns the best estimator\n",
    "    '''\n",
    "    grid = RandomizedSearchCV(model,\n",
    "                              param_distributions=params,\n",
    "                              scoring='f1',\n",
    "                              n_jobs=-2,\n",
    "                              n_iter=combi,\n",
    "                              cv=5,\n",
    "                              random_state=11,\n",
    "                              verbose=0)\n",
    "\n",
    "    grid.fit(X_train, y_train)\n",
    "\n",
    "    print(grid.best_params_)\n",
    "\n",
    "    best_model = grid.best_estimator_\n",
    "\n",
    "    return best_model"
   ]
  },
  {
   "cell_type": "code",
   "execution_count": 11,
   "metadata": {
    "ExecuteTime": {
     "end_time": "2020-12-06T09:30:09.930148Z",
     "start_time": "2020-12-06T09:30:09.902147Z"
    }
   },
   "outputs": [],
   "source": [
    "# create a function that calculates model statistics \n",
    "# such as f1-score, accuracy, precision and recall\n",
    "\n",
    "def get_model_stats(model):\n",
    "    \n",
    "    # saves the model statistics into a dictionary\n",
    "    model_stats = {}\n",
    "    \n",
    "    pred_train = model.predict(X_train)\n",
    "    pred_test = model.predict(X_test)\n",
    "    \n",
    "    # calculate, print and save the f1-score\n",
    "    # the results are printed to check for overfitting.\n",
    "    train_f1 = round(f1_score(y_train, pred_train), 4)\n",
    "    train_f1_cv = round(np.mean(cross_val_score(model, X_train, y_train, scoring='f1')), 4)\n",
    "    test_f1 = round(f1_score(y_test, pred_test), 4)\n",
    "    print(f'Train F1 Score: {train_f1}')\n",
    "    print(f'Train F1 Score (CV): {train_f1_cv}')\n",
    "    print(f'Test F1 Score: {test_f1}')\n",
    "    \n",
    "    model_stats['Train F1'] = train_f1\n",
    "    model_stats['Train F1 (CV)'] = train_f1_cv\n",
    "    model_stats['Test F1'] = test_f1\n",
    "        \n",
    "    \n",
    "    # calculate and save the precision score\n",
    "    train_precision = round(precision_score(y_train, pred_train), 4)\n",
    "    train_precision_cv = round(np.mean(cross_val_score(model, X_train, y_train, scoring='precision')), 4)\n",
    "    test_precision = round(precision_score(y_test, pred_test), 4)\n",
    "    \n",
    "    model_stats['Train Precision'] = train_precision\n",
    "    model_stats['Train Precision (CV)'] = train_precision_cv\n",
    "    model_stats['Test Precision'] = test_precision\n",
    "    \n",
    "    \n",
    "    # calculate and save the recall score\n",
    "    train_recall = round(recall_score(y_train, pred_train), 4)\n",
    "    train_recall_score_cv = round(np.mean(cross_val_score(model, X_train, y_train, scoring='recall')), 4)\n",
    "    test_recall_score = round(recall_score(y_test, pred_test), 4)\n",
    "    \n",
    "    model_stats['Train Recall'] = train_recall\n",
    "    model_stats['Train Recall (CV)'] = train_recall_score_cv\n",
    "    model_stats['Test Recall'] = test_recall_score\n",
    "    \n",
    "    \n",
    "    # calculate and save the accuracy score\n",
    "    train_accuracy = round(model.score(X_train, y_train), 4)\n",
    "    test_accuracy = round(model.score(X_test, y_test), 4)\n",
    "    \n",
    "    model_stats['Train Accuracy'] = train_accuracy\n",
    "    model_stats['Test Accuracy'] = test_accuracy\n",
    "\n",
    "    \n",
    "    # calculate and save all the predictions (for reference if necessary)\n",
    "    tn_train, fp_train, fn_train, tp_train = confusion_matrix(y_train, pred_train).ravel()\n",
    "    tn_test, fp_test, fn_test, tp_test = confusion_matrix(y_test, pred_test).ravel()\n",
    "\n",
    "    model_stats['Train True Positive'] = tp_train\n",
    "    model_stats['Train False Positive'] = fp_train\n",
    "    model_stats['Train False Negative'] = fn_train\n",
    "    model_stats['Train True Negative'] = tn_train\n",
    "    model_stats['Test True Positive'] = tp_test\n",
    "    model_stats['Test False Positive'] = fp_test\n",
    "    model_stats['Test False Negative'] = fn_test\n",
    "    model_stats['Test True Negative'] = tn_test\n",
    "\n",
    "    return model_stats"
   ]
  },
  {
   "cell_type": "markdown",
   "metadata": {},
   "source": [
    "## Modeling Using CountVectorizer\n",
    "CountVectorizer basically **converts a collection of text documents to a matrix of token counts** so that the data can be used in ML algorithms."
   ]
  },
  {
   "cell_type": "code",
   "execution_count": 12,
   "metadata": {
    "ExecuteTime": {
     "end_time": "2020-12-06T09:30:09.977119Z",
     "start_time": "2020-12-06T09:30:09.933146Z"
    },
    "scrolled": true
   },
   "outputs": [
    {
     "data": {
      "text/plain": [
       "(1039, 3331)"
      ]
     },
     "execution_count": 12,
     "metadata": {},
     "output_type": "execute_result"
    }
   ],
   "source": [
    "# create a dictionary to save the model statistics for models using CountVectorizer\n",
    "cvec_models_stats = {}\n",
    "\n",
    "# check the number of terms there will be after CountVectorizer\n",
    "cvec = CountVectorizer()\n",
    "cvec.fit_transform(X_train).shape"
   ]
  },
  {
   "cell_type": "markdown",
   "metadata": {},
   "source": [
    "As there is a total of 3331 terms after transforming the training dataset with CountVectorizer, I will try **max_features values with 1000, 2000 and 3000**."
   ]
  },
  {
   "cell_type": "markdown",
   "metadata": {},
   "source": [
    "### Without Hyperparameter Tuning"
   ]
  },
  {
   "cell_type": "markdown",
   "metadata": {},
   "source": [
    "#### Logistic Regression"
   ]
  },
  {
   "cell_type": "code",
   "execution_count": 13,
   "metadata": {
    "ExecuteTime": {
     "end_time": "2020-12-06T09:30:10.115555Z",
     "start_time": "2020-12-06T09:30:09.979119Z"
    },
    "scrolled": true
   },
   "outputs": [
    {
     "data": {
      "text/plain": [
       "Pipeline(steps=[('cvec', CountVectorizer(lowercase=False)),\n",
       "                ('lr', LogisticRegression())])"
      ]
     },
     "execution_count": 13,
     "metadata": {},
     "output_type": "execute_result"
    }
   ],
   "source": [
    "# get a benchmark statistics of Logistic Regression without hyperparameters tuning\n",
    "cvec_log_pipe = Pipeline([('cvec', CountVectorizer(lowercase=False)),\n",
    "                          ('lr', LogisticRegression())])\n",
    "\n",
    "\n",
    "cvec_log_pipe.fit(X_train, y_train)"
   ]
  },
  {
   "cell_type": "code",
   "execution_count": 14,
   "metadata": {
    "ExecuteTime": {
     "end_time": "2020-12-06T09:30:11.570773Z",
     "start_time": "2020-12-06T09:30:10.127549Z"
    }
   },
   "outputs": [
    {
     "name": "stdout",
     "output_type": "stream",
     "text": [
      "Train F1 Score: 0.9885\n",
      "Train F1 Score (CV): 0.714\n",
      "Test F1 Score: 0.695\n"
     ]
    }
   ],
   "source": [
    "# get the model statistics\n",
    "cvec_models_stats['CVec Logistic Regression Pipeline'] = get_model_stats(cvec_log_pipe)"
   ]
  },
  {
   "cell_type": "markdown",
   "metadata": {},
   "source": [
    "The model is extremely **overfitted** as:\n",
    "- **F1 score** on the training dataset is **0.99**\n",
    "- **Cross-Validated F1 score** on the (same) training dataset is **0.71**"
   ]
  },
  {
   "cell_type": "markdown",
   "metadata": {},
   "source": [
    "#### Multinominal Naive Bayes"
   ]
  },
  {
   "cell_type": "code",
   "execution_count": 15,
   "metadata": {
    "ExecuteTime": {
     "end_time": "2020-12-06T09:30:11.618743Z",
     "start_time": "2020-12-06T09:30:11.572776Z"
    },
    "scrolled": true
   },
   "outputs": [
    {
     "data": {
      "text/plain": [
       "Pipeline(steps=[('cvec', CountVectorizer(lowercase=False)),\n",
       "                ('mnb', MultinomialNB())])"
      ]
     },
     "execution_count": 15,
     "metadata": {},
     "output_type": "execute_result"
    }
   ],
   "source": [
    "# get a benchmark statistics of Multinomial NB without hyperparameters tuning\n",
    "cvec_mnb_pipe = Pipeline([('cvec', CountVectorizer(lowercase=False)),\n",
    "                          ('mnb', MultinomialNB())])\n",
    "\n",
    "\n",
    "cvec_mnb_pipe.fit(X_train, y_train)"
   ]
  },
  {
   "cell_type": "code",
   "execution_count": 16,
   "metadata": {
    "ExecuteTime": {
     "end_time": "2020-12-06T09:30:12.206897Z",
     "start_time": "2020-12-06T09:30:11.620743Z"
    },
    "scrolled": true
   },
   "outputs": [
    {
     "name": "stdout",
     "output_type": "stream",
     "text": [
      "Train F1 Score: 0.9478\n",
      "Train F1 Score (CV): 0.6636\n",
      "Test F1 Score: 0.6396\n"
     ]
    }
   ],
   "source": [
    "# get the model statistics\n",
    "cvec_models_stats['CVec Multinomial NB Pipeline'] = get_model_stats(cvec_mnb_pipe)"
   ]
  },
  {
   "cell_type": "markdown",
   "metadata": {},
   "source": [
    "The model is extremely **overfitted** as:\n",
    "- **F1 score** on the training dataset is **0.95**\n",
    "- **Cross-Validated F1 score** on the (same) training dataset is **0.67**"
   ]
  },
  {
   "cell_type": "markdown",
   "metadata": {},
   "source": [
    "#### Random Forest"
   ]
  },
  {
   "cell_type": "code",
   "execution_count": 17,
   "metadata": {
    "ExecuteTime": {
     "end_time": "2020-12-06T09:30:12.845503Z",
     "start_time": "2020-12-06T09:30:12.208896Z"
    },
    "scrolled": true
   },
   "outputs": [
    {
     "data": {
      "text/plain": [
       "Pipeline(steps=[('cvec', CountVectorizer(lowercase=False)),\n",
       "                ('rf', RandomForestClassifier(random_state=11))])"
      ]
     },
     "execution_count": 17,
     "metadata": {},
     "output_type": "execute_result"
    }
   ],
   "source": [
    "# get a benchmark statistics of Random Forest without hyperparameters tuning\n",
    "cvec_rf_pipe = Pipeline([('cvec', CountVectorizer(lowercase=False)),\n",
    "                         ('rf', RandomForestClassifier(random_state=11))])\n",
    "\n",
    "\n",
    "cvec_rf_pipe.fit(X_train, y_train)"
   ]
  },
  {
   "cell_type": "code",
   "execution_count": 18,
   "metadata": {
    "ExecuteTime": {
     "end_time": "2020-12-06T09:30:20.684474Z",
     "start_time": "2020-12-06T09:30:12.847502Z"
    },
    "scrolled": true
   },
   "outputs": [
    {
     "name": "stdout",
     "output_type": "stream",
     "text": [
      "Train F1 Score: 1.0\n",
      "Train F1 Score (CV): 0.7163\n",
      "Test F1 Score: 0.7212\n"
     ]
    }
   ],
   "source": [
    "# get the model statistics\n",
    "cvec_models_stats['CVec Random Forest Pipeline'] = get_model_stats(cvec_rf_pipe)"
   ]
  },
  {
   "cell_type": "markdown",
   "metadata": {},
   "source": [
    "The model is extremely **overfitted** as:\n",
    "- **F1 score** on the training dataset is **0.99**\n",
    "- **Cross-Validated F1 score** on the (same) training dataset is **0.71**"
   ]
  },
  {
   "cell_type": "markdown",
   "metadata": {},
   "source": [
    "### With Hyperparameter Tuning\n",
    "I will run GridSearchCV (or RandomizedSearchCV) on a set of hyperparameters to reduce the overfitting and improve the f1 score.\n",
    "\n",
    "Some **hyperparameters** that I will try to tune for CountVectorizer are:\n",
    "1. stop_words - Whether to remove stopwords\n",
    "2. ngram-range - Whether to use bi-gram, tri-gram, etc\n",
    "3. max_df - Whether to ignore terms that have frequency above than a certain threshold\n",
    "4. min_df - Whether to ignore terms that have frequency lower than a certain threshold \n",
    "5. max_features - The number of top terms to be connsidered\n",
    "\n",
    "I will also tune some hyperparameters specific to each model."
   ]
  },
  {
   "cell_type": "markdown",
   "metadata": {},
   "source": [
    "#### Logistic Regression"
   ]
  },
  {
   "cell_type": "code",
   "execution_count": 19,
   "metadata": {
    "ExecuteTime": {
     "end_time": "2020-12-06T09:31:25.484611Z",
     "start_time": "2020-12-06T09:30:20.686476Z"
    }
   },
   "outputs": [
    {
     "name": "stdout",
     "output_type": "stream",
     "text": [
      "{'cvec__max_df': 0.98, 'cvec__max_features': 1000, 'cvec__min_df': 10, 'cvec__ngram_range': (1, 3), 'cvec__stop_words': None, 'lr__C': 0.01}\n"
     ]
    }
   ],
   "source": [
    "# list of hyperparameters for the Logistic Regression pipeline\n",
    "cvec_log_grid_params = {\n",
    "    'cvec__stop_words': [None, 'english'],\n",
    "    'cvec__ngram_range': [(1, 1), (1, 2), (1, 3)],\n",
    "    'cvec__max_df': [.98, .96],\n",
    "    'cvec__min_df': [10, 11, 12],\n",
    "    'cvec__max_features': [1000, 2000, 3000],\n",
    "    'lr__C': [0.01, 0.1, 1, 10]\n",
    "}\n",
    "\n",
    "# run gridsearch on the pipeline\n",
    "cvec_log_model = run_gridsearch(cvec_log_pipe, cvec_log_grid_params)"
   ]
  },
  {
   "cell_type": "code",
   "execution_count": 20,
   "metadata": {
    "ExecuteTime": {
     "end_time": "2020-12-06T09:31:27.357322Z",
     "start_time": "2020-12-06T09:31:25.487614Z"
    },
    "scrolled": true
   },
   "outputs": [
    {
     "name": "stdout",
     "output_type": "stream",
     "text": [
      "Train F1 Score: 0.7216\n",
      "Train F1 Score (CV): 0.6882\n",
      "Test F1 Score: 0.7286\n"
     ]
    }
   ],
   "source": [
    "# get the model statistics\n",
    "cvec_models_stats['CVec Logistic Regression GridSearch'] = get_model_stats(cvec_log_model)"
   ]
  },
  {
   "cell_type": "markdown",
   "metadata": {},
   "source": [
    "Observations will be made in the next section."
   ]
  },
  {
   "cell_type": "markdown",
   "metadata": {},
   "source": [
    "#### Multinominal Naive Bayes"
   ]
  },
  {
   "cell_type": "code",
   "execution_count": 21,
   "metadata": {
    "ExecuteTime": {
     "end_time": "2020-12-06T09:31:45.965456Z",
     "start_time": "2020-12-06T09:31:27.359325Z"
    }
   },
   "outputs": [
    {
     "name": "stdout",
     "output_type": "stream",
     "text": [
      "{'cvec__max_df': 0.98, 'cvec__max_features': 1000, 'cvec__min_df': 11, 'cvec__ngram_range': (1, 3), 'cvec__stop_words': None}\n"
     ]
    }
   ],
   "source": [
    "# list of hyperparameters for the Multinominal NB pipeline\n",
    "cvec_mnb_grid_params = {\n",
    "    'cvec__stop_words': [None, 'english'],\n",
    "    'cvec__ngram_range': [(1, 1), (1, 2), (1, 3)],\n",
    "    'cvec__max_df': [0.98, 0.97, 0.96],\n",
    "    'cvec__min_df': [10, 11, 12],\n",
    "    'cvec__max_features': [1000, 2000, 3000]\n",
    "}\n",
    "\n",
    "# run gridsearch on the pipeline\n",
    "cvec_mnb_model = run_gridsearch(cvec_mnb_pipe, cvec_mnb_grid_params)"
   ]
  },
  {
   "cell_type": "code",
   "execution_count": 22,
   "metadata": {
    "ExecuteTime": {
     "end_time": "2020-12-06T09:31:48.413135Z",
     "start_time": "2020-12-06T09:31:45.970456Z"
    },
    "scrolled": false
   },
   "outputs": [
    {
     "name": "stdout",
     "output_type": "stream",
     "text": [
      "Train F1 Score: 0.7464\n",
      "Train F1 Score (CV): 0.6933\n",
      "Test F1 Score: 0.724\n"
     ]
    }
   ],
   "source": [
    "# get the model statistics\n",
    "cvec_models_stats['CVec Multinomial NB GridSearch'] = get_model_stats(cvec_mnb_model)"
   ]
  },
  {
   "cell_type": "markdown",
   "metadata": {},
   "source": [
    "Observations will be made in the next section."
   ]
  },
  {
   "cell_type": "markdown",
   "metadata": {},
   "source": [
    "#### Random Forest"
   ]
  },
  {
   "cell_type": "code",
   "execution_count": 23,
   "metadata": {
    "ExecuteTime": {
     "end_time": "2020-12-06T09:35:41.871172Z",
     "start_time": "2020-12-06T09:31:48.417133Z"
    },
    "scrolled": false
   },
   "outputs": [
    {
     "name": "stdout",
     "output_type": "stream",
     "text": [
      "{'rf__n_estimators': 100, 'rf__min_samples_split': 10, 'rf__min_samples_leaf': 4, 'rf__max_depth': 10, 'cvec__stop_words': None, 'cvec__ngram_range': (1, 3), 'cvec__min_df': 3, 'cvec__max_features': 1000, 'cvec__max_df': 0.97}\n"
     ]
    }
   ],
   "source": [
    "# list of hyperparameters for the Ranndom Forest pipeline\n",
    "cvec_rf_grid_params = {\n",
    "    'cvec__stop_words': [None, 'english'],\n",
    "    'cvec__ngram_range': [(1, 1), (1, 2), (1, 3)],\n",
    "    'cvec__max_df': [0.98, 0.97],\n",
    "    'cvec__min_df': [2, 3, 4],\n",
    "    'cvec__max_features': [1000, 2000, 3000],\n",
    "    'rf__n_estimators': [100, 150],\n",
    "    'rf__max_depth': [10, 15, 20],\n",
    "    'rf__min_samples_split': [10, 12, 15],\n",
    "    'rf__min_samples_leaf': [4, 6]\n",
    "}\n",
    "\n",
    "# run randomized search on the pipeline (too many hyperparameters combinations)\n",
    "cvec_rf_model = run_randsearch(cvec_rf_pipe, cvec_rf_grid_params, combi=400)"
   ]
  },
  {
   "cell_type": "code",
   "execution_count": 24,
   "metadata": {
    "ExecuteTime": {
     "end_time": "2020-12-06T09:35:46.759894Z",
     "start_time": "2020-12-06T09:35:41.873175Z"
    },
    "scrolled": false
   },
   "outputs": [
    {
     "name": "stdout",
     "output_type": "stream",
     "text": [
      "Train F1 Score: 0.7601\n",
      "Train F1 Score (CV): 0.7187\n",
      "Test F1 Score: 0.745\n"
     ]
    }
   ],
   "source": [
    "# get the model statistics\n",
    "cvec_models_stats['CVec Random Forest GridSearch'] = get_model_stats(cvec_rf_model)"
   ]
  },
  {
   "cell_type": "markdown",
   "metadata": {},
   "source": [
    "Observations will be made in the next section."
   ]
  },
  {
   "cell_type": "markdown",
   "metadata": {},
   "source": [
    "### Statistics of Models using CountVectorizer"
   ]
  },
  {
   "cell_type": "code",
   "execution_count": 25,
   "metadata": {
    "ExecuteTime": {
     "end_time": "2020-12-06T09:35:46.790882Z",
     "start_time": "2020-12-06T09:35:46.761899Z"
    }
   },
   "outputs": [
    {
     "data": {
      "text/html": [
       "<div>\n",
       "<style scoped>\n",
       "    .dataframe tbody tr th:only-of-type {\n",
       "        vertical-align: middle;\n",
       "    }\n",
       "\n",
       "    .dataframe tbody tr th {\n",
       "        vertical-align: top;\n",
       "    }\n",
       "\n",
       "    .dataframe thead th {\n",
       "        text-align: right;\n",
       "    }\n",
       "</style>\n",
       "<table border=\"1\" class=\"dataframe\">\n",
       "  <thead>\n",
       "    <tr style=\"text-align: right;\">\n",
       "      <th></th>\n",
       "      <th>Train F1</th>\n",
       "      <th>Train F1 (CV)</th>\n",
       "      <th>Test F1</th>\n",
       "      <th>Train Precision</th>\n",
       "      <th>Train Precision (CV)</th>\n",
       "      <th>Test Precision</th>\n",
       "      <th>Train Recall</th>\n",
       "      <th>Train Recall (CV)</th>\n",
       "      <th>Test Recall</th>\n",
       "      <th>Train Accuracy</th>\n",
       "      <th>Test Accuracy</th>\n",
       "    </tr>\n",
       "  </thead>\n",
       "  <tbody>\n",
       "    <tr>\n",
       "      <th>CVec Logistic Regression Pipeline</th>\n",
       "      <td>0.9885</td>\n",
       "      <td>0.7140</td>\n",
       "      <td>0.6950</td>\n",
       "      <td>0.9866</td>\n",
       "      <td>0.7194</td>\n",
       "      <td>0.6977</td>\n",
       "      <td>0.9904</td>\n",
       "      <td>0.7096</td>\n",
       "      <td>0.6923</td>\n",
       "      <td>0.9885</td>\n",
       "      <td>0.6962</td>\n",
       "    </tr>\n",
       "    <tr>\n",
       "      <th>CVec Multinomial NB Pipeline</th>\n",
       "      <td>0.9478</td>\n",
       "      <td>0.6636</td>\n",
       "      <td>0.6396</td>\n",
       "      <td>0.9533</td>\n",
       "      <td>0.7286</td>\n",
       "      <td>0.7717</td>\n",
       "      <td>0.9423</td>\n",
       "      <td>0.6096</td>\n",
       "      <td>0.5462</td>\n",
       "      <td>0.9480</td>\n",
       "      <td>0.6923</td>\n",
       "    </tr>\n",
       "    <tr>\n",
       "      <th>CVec Random Forest Pipeline</th>\n",
       "      <td>1.0000</td>\n",
       "      <td>0.7163</td>\n",
       "      <td>0.7212</td>\n",
       "      <td>1.0000</td>\n",
       "      <td>0.6946</td>\n",
       "      <td>0.6978</td>\n",
       "      <td>1.0000</td>\n",
       "      <td>0.7404</td>\n",
       "      <td>0.7462</td>\n",
       "      <td>1.0000</td>\n",
       "      <td>0.7115</td>\n",
       "    </tr>\n",
       "    <tr>\n",
       "      <th>CVec Logistic Regression GridSearch</th>\n",
       "      <td>0.7216</td>\n",
       "      <td>0.6882</td>\n",
       "      <td>0.7286</td>\n",
       "      <td>0.6888</td>\n",
       "      <td>0.6588</td>\n",
       "      <td>0.7050</td>\n",
       "      <td>0.7577</td>\n",
       "      <td>0.7212</td>\n",
       "      <td>0.7538</td>\n",
       "      <td>0.7074</td>\n",
       "      <td>0.7192</td>\n",
       "    </tr>\n",
       "    <tr>\n",
       "      <th>CVec Multinomial NB GridSearch</th>\n",
       "      <td>0.7464</td>\n",
       "      <td>0.6933</td>\n",
       "      <td>0.7240</td>\n",
       "      <td>0.6967</td>\n",
       "      <td>0.6486</td>\n",
       "      <td>0.6779</td>\n",
       "      <td>0.8038</td>\n",
       "      <td>0.7462</td>\n",
       "      <td>0.7769</td>\n",
       "      <td>0.7267</td>\n",
       "      <td>0.7038</td>\n",
       "    </tr>\n",
       "    <tr>\n",
       "      <th>CVec Random Forest GridSearch</th>\n",
       "      <td>0.7601</td>\n",
       "      <td>0.7187</td>\n",
       "      <td>0.7450</td>\n",
       "      <td>0.6777</td>\n",
       "      <td>0.6369</td>\n",
       "      <td>0.6607</td>\n",
       "      <td>0.8654</td>\n",
       "      <td>0.8250</td>\n",
       "      <td>0.8538</td>\n",
       "      <td>0.7267</td>\n",
       "      <td>0.7077</td>\n",
       "    </tr>\n",
       "  </tbody>\n",
       "</table>\n",
       "</div>"
      ],
      "text/plain": [
       "                                     Train F1  Train F1 (CV)  Test F1  \\\n",
       "CVec Logistic Regression Pipeline      0.9885         0.7140   0.6950   \n",
       "CVec Multinomial NB Pipeline           0.9478         0.6636   0.6396   \n",
       "CVec Random Forest Pipeline            1.0000         0.7163   0.7212   \n",
       "CVec Logistic Regression GridSearch    0.7216         0.6882   0.7286   \n",
       "CVec Multinomial NB GridSearch         0.7464         0.6933   0.7240   \n",
       "CVec Random Forest GridSearch          0.7601         0.7187   0.7450   \n",
       "\n",
       "                                     Train Precision  Train Precision (CV)  \\\n",
       "CVec Logistic Regression Pipeline             0.9866                0.7194   \n",
       "CVec Multinomial NB Pipeline                  0.9533                0.7286   \n",
       "CVec Random Forest Pipeline                   1.0000                0.6946   \n",
       "CVec Logistic Regression GridSearch           0.6888                0.6588   \n",
       "CVec Multinomial NB GridSearch                0.6967                0.6486   \n",
       "CVec Random Forest GridSearch                 0.6777                0.6369   \n",
       "\n",
       "                                     Test Precision  Train Recall  \\\n",
       "CVec Logistic Regression Pipeline            0.6977        0.9904   \n",
       "CVec Multinomial NB Pipeline                 0.7717        0.9423   \n",
       "CVec Random Forest Pipeline                  0.6978        1.0000   \n",
       "CVec Logistic Regression GridSearch          0.7050        0.7577   \n",
       "CVec Multinomial NB GridSearch               0.6779        0.8038   \n",
       "CVec Random Forest GridSearch                0.6607        0.8654   \n",
       "\n",
       "                                     Train Recall (CV)  Test Recall  \\\n",
       "CVec Logistic Regression Pipeline               0.7096       0.6923   \n",
       "CVec Multinomial NB Pipeline                    0.6096       0.5462   \n",
       "CVec Random Forest Pipeline                     0.7404       0.7462   \n",
       "CVec Logistic Regression GridSearch             0.7212       0.7538   \n",
       "CVec Multinomial NB GridSearch                  0.7462       0.7769   \n",
       "CVec Random Forest GridSearch                   0.8250       0.8538   \n",
       "\n",
       "                                     Train Accuracy  Test Accuracy  \n",
       "CVec Logistic Regression Pipeline            0.9885         0.6962  \n",
       "CVec Multinomial NB Pipeline                 0.9480         0.6923  \n",
       "CVec Random Forest Pipeline                  1.0000         0.7115  \n",
       "CVec Logistic Regression GridSearch          0.7074         0.7192  \n",
       "CVec Multinomial NB GridSearch               0.7267         0.7038  \n",
       "CVec Random Forest GridSearch                0.7267         0.7077  "
      ]
     },
     "execution_count": 25,
     "metadata": {},
     "output_type": "execute_result"
    }
   ],
   "source": [
    "# create a dataframe of the model statistics\n",
    "cvec_stats = pd.DataFrame(cvec_models_stats).T\n",
    "\n",
    "# display only up to Recall metrics\n",
    "# information such as True Positives, etc will be used only if needed\n",
    "cvec_stats.iloc[:, :11]"
   ]
  },
  {
   "cell_type": "markdown",
   "metadata": {},
   "source": [
    "**Observations**\n",
    "\n",
    "- All the **models without hyperparameter tuning are extremely overfitted**. This is evident from the difference between the scores on the whole training dataset vs the cross-validated scores on the same training dataset or the scores from the testing dataset.\n",
    "- After hyperparameter tuning, the **overfitting has been reduced significantly**. Although there is still some amounts of it remaining, I was unable to reduce it further. This could be due to the techniques employed.\n",
    "- Among the three models with hyperparameter tuning (with grid search), Logistic Regression performs the best with the **least amount of evidence of overfitting** with **higher precision score**.\n",
    "    \n",
    "I will also repeat the same process using TfidfVectorizer."
   ]
  },
  {
   "cell_type": "markdown",
   "metadata": {},
   "source": [
    "## Modeling Using TfidfVectorizer\n",
    "\n",
    "TF-IDF is an abbreviation for **Term Frequency Inverse Document Frequency**. \n",
    "\n",
    "TfidfVectorizer is similar to CountVectorizer in that it converts a collection of text documents to a matrix of token counts so that the data can be used in ML algorithms. In fact, the first step of TfidfVectorizer is a CountVectorizer transformation.\n",
    "\n",
    "However, TfidfVectorizer has an additional second step/process that gives a **measure of the originality/relative importance** of each word by comparing the number of times a word appears in a document/text with and the number of documents/texts that the word appears in. This is as opposed to giving the word frequency from the CountVectorizer.\n",
    "\n",
    "The additional may provide more useful information that the ML algorithm may learn from to provide better results."
   ]
  },
  {
   "cell_type": "code",
   "execution_count": 26,
   "metadata": {
    "ExecuteTime": {
     "end_time": "2020-12-06T09:35:46.806870Z",
     "start_time": "2020-12-06T09:35:46.792879Z"
    }
   },
   "outputs": [],
   "source": [
    "# create a dictionary to save the model statistics for models using TfidfVectorizer\n",
    "tvec_models_stats = {}"
   ]
  },
  {
   "cell_type": "markdown",
   "metadata": {},
   "source": [
    "### Without Hyperparameter Tuning"
   ]
  },
  {
   "cell_type": "markdown",
   "metadata": {},
   "source": [
    "#### Logistic Regression"
   ]
  },
  {
   "cell_type": "code",
   "execution_count": 27,
   "metadata": {
    "ExecuteTime": {
     "end_time": "2020-12-06T09:35:46.870356Z",
     "start_time": "2020-12-06T09:35:46.808868Z"
    },
    "scrolled": false
   },
   "outputs": [
    {
     "data": {
      "text/plain": [
       "Pipeline(steps=[('tvec', TfidfVectorizer(lowercase=False)),\n",
       "                ('lr', LogisticRegression())])"
      ]
     },
     "execution_count": 27,
     "metadata": {},
     "output_type": "execute_result"
    }
   ],
   "source": [
    "# get a benchmark statistics of Logistic Regression without hyperparameters tuning\n",
    "tvec_log_pipe = Pipeline([('tvec', TfidfVectorizer(lowercase=False)),\n",
    "                          ('lr', LogisticRegression())])\n",
    "\n",
    "\n",
    "tvec_log_pipe.fit(X_train, y_train)"
   ]
  },
  {
   "cell_type": "code",
   "execution_count": 28,
   "metadata": {
    "ExecuteTime": {
     "end_time": "2020-12-06T09:35:47.745523Z",
     "start_time": "2020-12-06T09:35:46.872359Z"
    }
   },
   "outputs": [
    {
     "name": "stdout",
     "output_type": "stream",
     "text": [
      "Train F1 Score: 0.9261\n",
      "Train F1 Score (CV): 0.6891\n",
      "Test F1 Score: 0.6911\n"
     ]
    }
   ],
   "source": [
    "# get the model statistics\n",
    "tvec_models_stats['TVec Logistic Regression Pipeline'] = get_model_stats(tvec_log_pipe)"
   ]
  },
  {
   "cell_type": "markdown",
   "metadata": {},
   "source": [
    "The model is extremely **overfitted** as:\n",
    "- **F1 score** on the training dataset is **0.93**\n",
    "- **Cross-Validated F1 score** on the (same) training dataset is **0.71**"
   ]
  },
  {
   "cell_type": "markdown",
   "metadata": {},
   "source": [
    "#### Multinominal Naive Bayes"
   ]
  },
  {
   "cell_type": "code",
   "execution_count": 29,
   "metadata": {
    "ExecuteTime": {
     "end_time": "2020-12-06T09:35:47.792096Z",
     "start_time": "2020-12-06T09:35:47.747890Z"
    },
    "scrolled": true
   },
   "outputs": [
    {
     "data": {
      "text/plain": [
       "Pipeline(steps=[('tvec', TfidfVectorizer(lowercase=False)),\n",
       "                ('mnb', MultinomialNB())])"
      ]
     },
     "execution_count": 29,
     "metadata": {},
     "output_type": "execute_result"
    }
   ],
   "source": [
    "# get a benchmark statistics of Multinomial NB without hyperparameters tuning\n",
    "tvec_mnb_pipe = Pipeline([('tvec', TfidfVectorizer(lowercase=False)),\n",
    "                          ('mnb', MultinomialNB())])\n",
    "\n",
    "\n",
    "tvec_mnb_pipe.fit(X_train, y_train)"
   ]
  },
  {
   "cell_type": "code",
   "execution_count": 30,
   "metadata": {
    "ExecuteTime": {
     "end_time": "2020-12-06T09:35:48.361702Z",
     "start_time": "2020-12-06T09:35:47.794101Z"
    },
    "scrolled": false
   },
   "outputs": [
    {
     "name": "stdout",
     "output_type": "stream",
     "text": [
      "Train F1 Score: 0.9543\n",
      "Train F1 Score (CV): 0.6551\n",
      "Test F1 Score: 0.6244\n"
     ]
    }
   ],
   "source": [
    "# get the model statistics\n",
    "tvec_models_stats['TVec Multinomial NB Pipeline'] = get_model_stats(tvec_mnb_pipe)"
   ]
  },
  {
   "cell_type": "markdown",
   "metadata": {},
   "source": [
    "The model is extremely **overfitted** as:\n",
    "- **F1 score** on the training dataset is **0.95**\n",
    "- **Cross-Validated F1 score** on the (same) training dataset is **0.65**"
   ]
  },
  {
   "cell_type": "markdown",
   "metadata": {},
   "source": [
    "#### Random Forest"
   ]
  },
  {
   "cell_type": "code",
   "execution_count": 31,
   "metadata": {
    "ExecuteTime": {
     "end_time": "2020-12-06T09:35:48.899798Z",
     "start_time": "2020-12-06T09:35:48.363706Z"
    },
    "scrolled": true
   },
   "outputs": [
    {
     "data": {
      "text/plain": [
       "Pipeline(steps=[('tvec', TfidfVectorizer(lowercase=False)),\n",
       "                ('rf', RandomForestClassifier(random_state=11))])"
      ]
     },
     "execution_count": 31,
     "metadata": {},
     "output_type": "execute_result"
    }
   ],
   "source": [
    "# get a benchmark statistics of Random Forest without hyperparameters tuning\n",
    "tvec_rf_pipe = Pipeline([('tvec', TfidfVectorizer(lowercase=False)),\n",
    "                         ('rf', RandomForestClassifier(random_state=11))])\n",
    "\n",
    "\n",
    "tvec_rf_pipe.fit(X_train, y_train)"
   ]
  },
  {
   "cell_type": "code",
   "execution_count": 32,
   "metadata": {
    "ExecuteTime": {
     "end_time": "2020-12-06T09:35:55.916808Z",
     "start_time": "2020-12-06T09:35:48.901800Z"
    }
   },
   "outputs": [
    {
     "name": "stdout",
     "output_type": "stream",
     "text": [
      "Train F1 Score: 1.0\n",
      "Train F1 Score (CV): 0.6833\n",
      "Test F1 Score: 0.6923\n"
     ]
    }
   ],
   "source": [
    "# get the model statistics\n",
    "tvec_models_stats['TVec Random Forest Pipeline'] = get_model_stats(tvec_rf_pipe)"
   ]
  },
  {
   "cell_type": "markdown",
   "metadata": {},
   "source": [
    "The model is extremely **overfitted** as:\n",
    "- **F1 score** on the training dataset is **1.00**\n",
    "- **Cross-Validated F1 score** on the (same) training dataset is **0.68**"
   ]
  },
  {
   "cell_type": "markdown",
   "metadata": {},
   "source": [
    "### With Hyperparameter Tuning\n",
    "The hyperparameters that I will try to tune for TfidfVectorizer are the same as CountVectorizer:\n",
    "\n",
    "    stop_words - Whether to remove stopwords\n",
    "    ngram-range - Whether to use bi-gram, tri-gram, etc\n",
    "    max_df - Whether to ignore terms that have frequency above than a certain threshold\n",
    "    min_df - Whether to ignore terms that have frequency lower than a certain threshold\n",
    "    max_features - The number of top terms to be connsidered\n",
    "    \n",
    "I will also tune some hyperparameters specific to each model."
   ]
  },
  {
   "cell_type": "markdown",
   "metadata": {},
   "source": [
    "#### Logistic Regression"
   ]
  },
  {
   "cell_type": "code",
   "execution_count": 33,
   "metadata": {
    "ExecuteTime": {
     "end_time": "2020-12-06T09:37:17.510253Z",
     "start_time": "2020-12-06T09:35:55.919083Z"
    }
   },
   "outputs": [
    {
     "name": "stdout",
     "output_type": "stream",
     "text": [
      "{'lr__C': 0.01, 'tvec__max_df': 0.98, 'tvec__max_features': 1000, 'tvec__min_df': 11, 'tvec__ngram_range': (1, 3), 'tvec__stop_words': None}\n"
     ]
    }
   ],
   "source": [
    "# list of hyperparameters for the Logistic Regression pipeline\n",
    "tvec_log_pipe_params = {\n",
    "    'tvec__stop_words': [None, 'english'],\n",
    "    'tvec__ngram_range': [(1, 1), (1, 2), (1, 3)],\n",
    "    'tvec__max_df': [0.98, 0.97, 0.96],\n",
    "    'tvec__min_df': [10, 11, 12],\n",
    "    'tvec__max_features': [1000, 2000, 3000],\n",
    "    'lr__C': [0.01, 0.1, 1, 10]\n",
    "}\n",
    "\n",
    "# run gridsearch on the pipeline\n",
    "tvec_log_model = run_gridsearch(tvec_log_pipe, tvec_log_pipe_params)"
   ]
  },
  {
   "cell_type": "code",
   "execution_count": 34,
   "metadata": {
    "ExecuteTime": {
     "end_time": "2020-12-06T09:37:19.420877Z",
     "start_time": "2020-12-06T09:37:17.512252Z"
    }
   },
   "outputs": [
    {
     "name": "stdout",
     "output_type": "stream",
     "text": [
      "Train F1 Score: 0.7338\n",
      "Train F1 Score (CV): 0.6919\n",
      "Test F1 Score: 0.7286\n"
     ]
    }
   ],
   "source": [
    "# get the model statistics\n",
    "tvec_models_stats['TVec Logistic Regression GridSearch'] = get_model_stats(tvec_log_model)"
   ]
  },
  {
   "cell_type": "markdown",
   "metadata": {},
   "source": [
    "Observations will be made in the next section."
   ]
  },
  {
   "cell_type": "markdown",
   "metadata": {},
   "source": [
    "#### Multinominal Naive Bayes"
   ]
  },
  {
   "cell_type": "code",
   "execution_count": 35,
   "metadata": {
    "ExecuteTime": {
     "end_time": "2020-12-06T09:37:37.005572Z",
     "start_time": "2020-12-06T09:37:19.422858Z"
    }
   },
   "outputs": [
    {
     "name": "stdout",
     "output_type": "stream",
     "text": [
      "{'tvec__max_df': 0.98, 'tvec__max_features': 1000, 'tvec__min_df': 10, 'tvec__ngram_range': (1, 3), 'tvec__stop_words': None}\n"
     ]
    }
   ],
   "source": [
    "# list of hyperparameters for the Multinominal NB pipeline\n",
    "tvec_mnb_grid_params = {\n",
    "    'tvec__stop_words': [None, 'english'],\n",
    "    'tvec__ngram_range': [(1, 1), (1, 2), (1, 3)],\n",
    "    'tvec__max_df': [0.98, 0.97, 0.96],\n",
    "    'tvec__min_df': [10, 11, 12],\n",
    "    'tvec__max_features': [1000, 2000, 3000]\n",
    "}\n",
    "\n",
    "# run gridsearch on the pipeline\n",
    "tvec_mnb_model = run_gridsearch(tvec_mnb_pipe, tvec_mnb_grid_params)"
   ]
  },
  {
   "cell_type": "code",
   "execution_count": 36,
   "metadata": {
    "ExecuteTime": {
     "end_time": "2020-12-06T09:37:38.783997Z",
     "start_time": "2020-12-06T09:37:37.007576Z"
    }
   },
   "outputs": [
    {
     "name": "stdout",
     "output_type": "stream",
     "text": [
      "Train F1 Score: 0.7647\n",
      "Train F1 Score (CV): 0.6777\n",
      "Test F1 Score: 0.7007\n"
     ]
    }
   ],
   "source": [
    "# get the model statistics\n",
    "tvec_models_stats['TVec Multinomial NB GridSearch'] = get_model_stats(tvec_mnb_model)"
   ]
  },
  {
   "cell_type": "markdown",
   "metadata": {},
   "source": [
    "Observations will be made in the next section."
   ]
  },
  {
   "cell_type": "markdown",
   "metadata": {},
   "source": [
    "#### Random Forest"
   ]
  },
  {
   "cell_type": "code",
   "execution_count": 37,
   "metadata": {
    "ExecuteTime": {
     "end_time": "2020-12-06T09:41:35.218192Z",
     "start_time": "2020-12-06T09:37:38.785995Z"
    },
    "scrolled": true
   },
   "outputs": [
    {
     "name": "stdout",
     "output_type": "stream",
     "text": [
      "{'tvec__stop_words': None, 'tvec__ngram_range': (1, 3), 'tvec__min_df': 5, 'tvec__max_features': 3000, 'tvec__max_df': 0.97, 'rf__n_estimators': 150, 'rf__min_samples_split': 10, 'rf__min_samples_leaf': 4, 'rf__max_depth': 20}\n"
     ]
    }
   ],
   "source": [
    "# list of hyperparameters for the Random Forest pipeline\n",
    "tvec_rf_grid_params = {\n",
    "    'tvec__stop_words': [None, 'english'],\n",
    "    'tvec__ngram_range': [(1, 1), (1,2), (1, 3)],\n",
    "    'tvec__max_df': [0.98, 0.97],\n",
    "    'tvec__min_df': [3, 4, 5],\n",
    "    'tvec__max_features': [1000, 2000, 3000],\n",
    "    'rf__n_estimators': [100, 150],\n",
    "    'rf__max_depth': [20, 30],\n",
    "    'rf__min_samples_split': [10, 15],\n",
    "    'rf__min_samples_leaf': [4, 6]\n",
    "}\n",
    "\n",
    "# run randomized search on the pipeline (too many hyperparameters combinations)\n",
    "tvec_rf_model = run_randsearch(tvec_rf_pipe, tvec_rf_grid_params, combi=400)"
   ]
  },
  {
   "cell_type": "code",
   "execution_count": 38,
   "metadata": {
    "ExecuteTime": {
     "end_time": "2020-12-06T09:41:42.404305Z",
     "start_time": "2020-12-06T09:41:35.220188Z"
    },
    "scrolled": false
   },
   "outputs": [
    {
     "name": "stdout",
     "output_type": "stream",
     "text": [
      "Train F1 Score: 0.8424\n",
      "Train F1 Score (CV): 0.7238\n",
      "Test F1 Score: 0.7626\n"
     ]
    }
   ],
   "source": [
    "# get the model statistics\n",
    "tvec_models_stats['TVec Random Forest GridSearch'] = get_model_stats(tvec_rf_model)"
   ]
  },
  {
   "cell_type": "markdown",
   "metadata": {},
   "source": [
    "For this model, I have tried multiple different set of hyperparameters, but I am unable to reduce the overfitting significantly (difference between Train F1 Score and Train F1 score (CV))."
   ]
  },
  {
   "cell_type": "markdown",
   "metadata": {},
   "source": [
    "### Statistics of Models using TfidfVectorizer"
   ]
  },
  {
   "cell_type": "code",
   "execution_count": 39,
   "metadata": {
    "ExecuteTime": {
     "end_time": "2020-12-06T09:41:42.436290Z",
     "start_time": "2020-12-06T09:41:42.406298Z"
    }
   },
   "outputs": [
    {
     "data": {
      "text/html": [
       "<div>\n",
       "<style scoped>\n",
       "    .dataframe tbody tr th:only-of-type {\n",
       "        vertical-align: middle;\n",
       "    }\n",
       "\n",
       "    .dataframe tbody tr th {\n",
       "        vertical-align: top;\n",
       "    }\n",
       "\n",
       "    .dataframe thead th {\n",
       "        text-align: right;\n",
       "    }\n",
       "</style>\n",
       "<table border=\"1\" class=\"dataframe\">\n",
       "  <thead>\n",
       "    <tr style=\"text-align: right;\">\n",
       "      <th></th>\n",
       "      <th>Train F1</th>\n",
       "      <th>Train F1 (CV)</th>\n",
       "      <th>Test F1</th>\n",
       "      <th>Train Precision</th>\n",
       "      <th>Train Precision (CV)</th>\n",
       "      <th>Test Precision</th>\n",
       "      <th>Train Recall</th>\n",
       "      <th>Train Recall (CV)</th>\n",
       "      <th>Test Recall</th>\n",
       "      <th>Train Accuracy</th>\n",
       "      <th>Test Accuracy</th>\n",
       "    </tr>\n",
       "  </thead>\n",
       "  <tbody>\n",
       "    <tr>\n",
       "      <th>TVec Logistic Regression Pipeline</th>\n",
       "      <td>0.9261</td>\n",
       "      <td>0.6891</td>\n",
       "      <td>0.6911</td>\n",
       "      <td>0.9123</td>\n",
       "      <td>0.7046</td>\n",
       "      <td>0.7328</td>\n",
       "      <td>0.9404</td>\n",
       "      <td>0.6750</td>\n",
       "      <td>0.6538</td>\n",
       "      <td>0.9249</td>\n",
       "      <td>0.7077</td>\n",
       "    </tr>\n",
       "    <tr>\n",
       "      <th>TVec Multinomial NB Pipeline</th>\n",
       "      <td>0.9543</td>\n",
       "      <td>0.6551</td>\n",
       "      <td>0.6244</td>\n",
       "      <td>0.9646</td>\n",
       "      <td>0.7460</td>\n",
       "      <td>0.7582</td>\n",
       "      <td>0.9442</td>\n",
       "      <td>0.5846</td>\n",
       "      <td>0.5308</td>\n",
       "      <td>0.9548</td>\n",
       "      <td>0.6808</td>\n",
       "    </tr>\n",
       "    <tr>\n",
       "      <th>TVec Random Forest Pipeline</th>\n",
       "      <td>1.0000</td>\n",
       "      <td>0.6833</td>\n",
       "      <td>0.6923</td>\n",
       "      <td>1.0000</td>\n",
       "      <td>0.6822</td>\n",
       "      <td>0.6923</td>\n",
       "      <td>1.0000</td>\n",
       "      <td>0.6846</td>\n",
       "      <td>0.6923</td>\n",
       "      <td>1.0000</td>\n",
       "      <td>0.6923</td>\n",
       "    </tr>\n",
       "    <tr>\n",
       "      <th>TVec Logistic Regression GridSearch</th>\n",
       "      <td>0.7338</td>\n",
       "      <td>0.6919</td>\n",
       "      <td>0.7286</td>\n",
       "      <td>0.6998</td>\n",
       "      <td>0.6532</td>\n",
       "      <td>0.7050</td>\n",
       "      <td>0.7712</td>\n",
       "      <td>0.7365</td>\n",
       "      <td>0.7538</td>\n",
       "      <td>0.7199</td>\n",
       "      <td>0.7192</td>\n",
       "    </tr>\n",
       "    <tr>\n",
       "      <th>TVec Multinomial NB GridSearch</th>\n",
       "      <td>0.7647</td>\n",
       "      <td>0.6777</td>\n",
       "      <td>0.7007</td>\n",
       "      <td>0.7199</td>\n",
       "      <td>0.6406</td>\n",
       "      <td>0.6667</td>\n",
       "      <td>0.8154</td>\n",
       "      <td>0.7212</td>\n",
       "      <td>0.7385</td>\n",
       "      <td>0.7488</td>\n",
       "      <td>0.6846</td>\n",
       "    </tr>\n",
       "    <tr>\n",
       "      <th>TVec Random Forest GridSearch</th>\n",
       "      <td>0.8424</td>\n",
       "      <td>0.7238</td>\n",
       "      <td>0.7626</td>\n",
       "      <td>0.8088</td>\n",
       "      <td>0.6743</td>\n",
       "      <td>0.7162</td>\n",
       "      <td>0.8788</td>\n",
       "      <td>0.7827</td>\n",
       "      <td>0.8154</td>\n",
       "      <td>0.8354</td>\n",
       "      <td>0.7462</td>\n",
       "    </tr>\n",
       "  </tbody>\n",
       "</table>\n",
       "</div>"
      ],
      "text/plain": [
       "                                     Train F1  Train F1 (CV)  Test F1  \\\n",
       "TVec Logistic Regression Pipeline      0.9261         0.6891   0.6911   \n",
       "TVec Multinomial NB Pipeline           0.9543         0.6551   0.6244   \n",
       "TVec Random Forest Pipeline            1.0000         0.6833   0.6923   \n",
       "TVec Logistic Regression GridSearch    0.7338         0.6919   0.7286   \n",
       "TVec Multinomial NB GridSearch         0.7647         0.6777   0.7007   \n",
       "TVec Random Forest GridSearch          0.8424         0.7238   0.7626   \n",
       "\n",
       "                                     Train Precision  Train Precision (CV)  \\\n",
       "TVec Logistic Regression Pipeline             0.9123                0.7046   \n",
       "TVec Multinomial NB Pipeline                  0.9646                0.7460   \n",
       "TVec Random Forest Pipeline                   1.0000                0.6822   \n",
       "TVec Logistic Regression GridSearch           0.6998                0.6532   \n",
       "TVec Multinomial NB GridSearch                0.7199                0.6406   \n",
       "TVec Random Forest GridSearch                 0.8088                0.6743   \n",
       "\n",
       "                                     Test Precision  Train Recall  \\\n",
       "TVec Logistic Regression Pipeline            0.7328        0.9404   \n",
       "TVec Multinomial NB Pipeline                 0.7582        0.9442   \n",
       "TVec Random Forest Pipeline                  0.6923        1.0000   \n",
       "TVec Logistic Regression GridSearch          0.7050        0.7712   \n",
       "TVec Multinomial NB GridSearch               0.6667        0.8154   \n",
       "TVec Random Forest GridSearch                0.7162        0.8788   \n",
       "\n",
       "                                     Train Recall (CV)  Test Recall  \\\n",
       "TVec Logistic Regression Pipeline               0.6750       0.6538   \n",
       "TVec Multinomial NB Pipeline                    0.5846       0.5308   \n",
       "TVec Random Forest Pipeline                     0.6846       0.6923   \n",
       "TVec Logistic Regression GridSearch             0.7365       0.7538   \n",
       "TVec Multinomial NB GridSearch                  0.7212       0.7385   \n",
       "TVec Random Forest GridSearch                   0.7827       0.8154   \n",
       "\n",
       "                                     Train Accuracy  Test Accuracy  \n",
       "TVec Logistic Regression Pipeline            0.9249         0.7077  \n",
       "TVec Multinomial NB Pipeline                 0.9548         0.6808  \n",
       "TVec Random Forest Pipeline                  1.0000         0.6923  \n",
       "TVec Logistic Regression GridSearch          0.7199         0.7192  \n",
       "TVec Multinomial NB GridSearch               0.7488         0.6846  \n",
       "TVec Random Forest GridSearch                0.8354         0.7462  "
      ]
     },
     "execution_count": 39,
     "metadata": {},
     "output_type": "execute_result"
    }
   ],
   "source": [
    "# create a dataframe of the model statistics\n",
    "tvec_stats = pd.DataFrame(tvec_models_stats).T\n",
    "\n",
    "# display only up to Recall metrics\n",
    "# information such as True Positives, etc will be used only if needed\n",
    "tvec_stats.iloc[:,:11]"
   ]
  },
  {
   "cell_type": "markdown",
   "metadata": {},
   "source": [
    "**Observations**\n",
    "\n",
    "- Again, all the **models without hyperparameter tuning are extremely overfitted**.\n",
    "- After hyperparameter tuning, the **overfitting has been reduced significantly**.\n",
    "- Among the three models with hyperparameter tuning (with grid search), Logistic Regression again had the **least evidence of overfitting**, and a **decent precision score**."
   ]
  },
  {
   "cell_type": "markdown",
   "metadata": {},
   "source": [
    "## All Models Statistics\n",
    "For the final model, I will want to use the model that:\n",
    "- is not too overfitted\n",
    "- has high f1-score\n",
    "- has high precision\n",
    "\n",
    "I will be plotting all the statistics of models that went through hyperparameter tuning to do a side by side visual comparison based on the criteria above."
   ]
  },
  {
   "cell_type": "code",
   "execution_count": 40,
   "metadata": {
    "ExecuteTime": {
     "end_time": "2020-12-06T09:41:43.951378Z",
     "start_time": "2020-12-06T09:41:42.438370Z"
    }
   },
   "outputs": [
    {
     "data": {
      "image/png": "[encoded data removed]",
      "text/plain": [
       "<Figure size 1008x864 with 6 Axes>"
      ]
     },
     "metadata": {},
     "output_type": "display_data"
    }
   ],
   "source": [
    "# plot the statistics as a horizonotal barplot\n",
    "\n",
    "# combine the results for all models using GridSearchCV/RandomizedSearchCV  for comparison\n",
    "all_stats = pd.concat([cvec_stats.iloc[3:, :11], tvec_stats.iloc[3:, :11]])\n",
    "\n",
    "# create a temporary dataframe that is the transpose of all_stats\n",
    "temp_df = all_stats.T\n",
    "\n",
    "fig, ax = plt.subplots(nrows = 3, ncols = 2, figsize = (14, 12))\n",
    "\n",
    "# colours to differentiate between the different metrics\n",
    "color_list = ['midnightblue', 'midnightblue', 'midnightblue', \n",
    "              'steelblue','steelblue','steelblue',\n",
    "              'royalblue','royalblue', 'royalblue', \n",
    "              'mediumaquamarine', 'mediumaquamarine', 'mediumaquamarine']\n",
    "\n",
    "counter = 0\n",
    "\n",
    "plt.suptitle('GridSearch Model Statistics', fontsize = 20)\n",
    "\n",
    "# loop through the models and plot them out in horizontal bar plots\n",
    "for col in temp_df.columns:\n",
    "    \n",
    "    # this will arrange all the cvec models are on the left and all tvec models are on the right\n",
    "    axis = ax[counter%3][int(counter/3)]\n",
    "    \n",
    "    temp_df[col].plot(kind='barh', ax=axis, color = color_list)\n",
    "    axis.set_title(col[:-11], fontsize = 15)\n",
    "    axis.set_xlim(0.6, .9)\n",
    "    axis.axvline(x=0.7, linewidth=1, linestyle = '--', color='k', )\n",
    "    axis.invert_yaxis()\n",
    "    \n",
    "    if counter > 2:\n",
    "        axis.set_yticklabels([])\n",
    "        \n",
    "    counter += 1\n",
    "\n",
    "plt.tight_layout()\n",
    "plt.show()"
   ]
  },
  {
   "cell_type": "markdown",
   "metadata": {},
   "source": [
    "**Observations**\n",
    "\n",
    "Comparing the difference between scores obtained from the whole train dataset vs the scores from the cross-validated train dataset, the **following models have evidence of overfitting and will not be used**:\n",
    "1. TVec Multinomial NB\n",
    "2. TVec Random Forest"
   ]
  },
  {
   "cell_type": "code",
   "execution_count": 41,
   "metadata": {
    "ExecuteTime": {
     "end_time": "2020-12-06T09:41:43.982931Z",
     "start_time": "2020-12-06T09:41:43.953375Z"
    }
   },
   "outputs": [
    {
     "data": {
      "text/html": [
       "<div>\n",
       "<style scoped>\n",
       "    .dataframe tbody tr th:only-of-type {\n",
       "        vertical-align: middle;\n",
       "    }\n",
       "\n",
       "    .dataframe tbody tr th {\n",
       "        vertical-align: top;\n",
       "    }\n",
       "\n",
       "    .dataframe thead th {\n",
       "        text-align: right;\n",
       "    }\n",
       "</style>\n",
       "<table border=\"1\" class=\"dataframe\">\n",
       "  <thead>\n",
       "    <tr style=\"text-align: right;\">\n",
       "      <th></th>\n",
       "      <th>Train F1</th>\n",
       "      <th>Train F1 (CV)</th>\n",
       "      <th>Test F1</th>\n",
       "      <th>Train Precision</th>\n",
       "      <th>Train Precision (CV)</th>\n",
       "      <th>Test Precision</th>\n",
       "      <th>Train Recall</th>\n",
       "      <th>Train Recall (CV)</th>\n",
       "      <th>Test Recall</th>\n",
       "      <th>Train Accuracy</th>\n",
       "      <th>Test Accuracy</th>\n",
       "    </tr>\n",
       "  </thead>\n",
       "  <tbody>\n",
       "    <tr>\n",
       "      <th>CVec Logistic Regression GridSearch</th>\n",
       "      <td>0.7216</td>\n",
       "      <td>0.6882</td>\n",
       "      <td>0.7286</td>\n",
       "      <td>0.6888</td>\n",
       "      <td>0.6588</td>\n",
       "      <td>0.7050</td>\n",
       "      <td>0.7577</td>\n",
       "      <td>0.7212</td>\n",
       "      <td>0.7538</td>\n",
       "      <td>0.7074</td>\n",
       "      <td>0.7192</td>\n",
       "    </tr>\n",
       "    <tr>\n",
       "      <th>TVec Logistic Regression GridSearch</th>\n",
       "      <td>0.7338</td>\n",
       "      <td>0.6919</td>\n",
       "      <td>0.7286</td>\n",
       "      <td>0.6998</td>\n",
       "      <td>0.6532</td>\n",
       "      <td>0.7050</td>\n",
       "      <td>0.7712</td>\n",
       "      <td>0.7365</td>\n",
       "      <td>0.7538</td>\n",
       "      <td>0.7199</td>\n",
       "      <td>0.7192</td>\n",
       "    </tr>\n",
       "    <tr>\n",
       "      <th>CVec Multinomial NB GridSearch</th>\n",
       "      <td>0.7464</td>\n",
       "      <td>0.6933</td>\n",
       "      <td>0.7240</td>\n",
       "      <td>0.6967</td>\n",
       "      <td>0.6486</td>\n",
       "      <td>0.6779</td>\n",
       "      <td>0.8038</td>\n",
       "      <td>0.7462</td>\n",
       "      <td>0.7769</td>\n",
       "      <td>0.7267</td>\n",
       "      <td>0.7038</td>\n",
       "    </tr>\n",
       "    <tr>\n",
       "      <th>CVec Random Forest GridSearch</th>\n",
       "      <td>0.7601</td>\n",
       "      <td>0.7187</td>\n",
       "      <td>0.7450</td>\n",
       "      <td>0.6777</td>\n",
       "      <td>0.6369</td>\n",
       "      <td>0.6607</td>\n",
       "      <td>0.8654</td>\n",
       "      <td>0.8250</td>\n",
       "      <td>0.8538</td>\n",
       "      <td>0.7267</td>\n",
       "      <td>0.7077</td>\n",
       "    </tr>\n",
       "  </tbody>\n",
       "</table>\n",
       "</div>"
      ],
      "text/plain": [
       "                                     Train F1  Train F1 (CV)  Test F1  \\\n",
       "CVec Logistic Regression GridSearch    0.7216         0.6882   0.7286   \n",
       "TVec Logistic Regression GridSearch    0.7338         0.6919   0.7286   \n",
       "CVec Multinomial NB GridSearch         0.7464         0.6933   0.7240   \n",
       "CVec Random Forest GridSearch          0.7601         0.7187   0.7450   \n",
       "\n",
       "                                     Train Precision  Train Precision (CV)  \\\n",
       "CVec Logistic Regression GridSearch           0.6888                0.6588   \n",
       "TVec Logistic Regression GridSearch           0.6998                0.6532   \n",
       "CVec Multinomial NB GridSearch                0.6967                0.6486   \n",
       "CVec Random Forest GridSearch                 0.6777                0.6369   \n",
       "\n",
       "                                     Test Precision  Train Recall  \\\n",
       "CVec Logistic Regression GridSearch          0.7050        0.7577   \n",
       "TVec Logistic Regression GridSearch          0.7050        0.7712   \n",
       "CVec Multinomial NB GridSearch               0.6779        0.8038   \n",
       "CVec Random Forest GridSearch                0.6607        0.8654   \n",
       "\n",
       "                                     Train Recall (CV)  Test Recall  \\\n",
       "CVec Logistic Regression GridSearch             0.7212       0.7538   \n",
       "TVec Logistic Regression GridSearch             0.7365       0.7538   \n",
       "CVec Multinomial NB GridSearch                  0.7462       0.7769   \n",
       "CVec Random Forest GridSearch                   0.8250       0.8538   \n",
       "\n",
       "                                     Train Accuracy  Test Accuracy  \n",
       "CVec Logistic Regression GridSearch          0.7074         0.7192  \n",
       "TVec Logistic Regression GridSearch          0.7199         0.7192  \n",
       "CVec Multinomial NB GridSearch               0.7267         0.7038  \n",
       "CVec Random Forest GridSearch                0.7267         0.7077  "
      ]
     },
     "execution_count": 41,
     "metadata": {},
     "output_type": "execute_result"
    }
   ],
   "source": [
    "# print the statistics for the four remaining models\n",
    "all_stats.iloc[[0, 3, 1, 2]]"
   ]
  },
  {
   "cell_type": "markdown",
   "metadata": {},
   "source": [
    "Among the four remaining models, Logistic Regression with CountVectorizer has:\n",
    "1. The **highest precision score**.\n",
    "2. **High F1 Score**\n",
    "2. **Relatively low overfitting**\n",
    "\n",
    "\n",
    "As such, I will use the **Logistic Regression with CountVectorizer with the tuned hyperparameters** for the production model."
   ]
  },
  {
   "cell_type": "markdown",
   "metadata": {},
   "source": [
    "# Production Model\n",
    "I will create a production model using Logistic Regression with CountVectorizer with the tuned hyperparameters found above."
   ]
  },
  {
   "cell_type": "code",
   "execution_count": 42,
   "metadata": {
    "ExecuteTime": {
     "end_time": "2020-12-06T09:41:44.141108Z",
     "start_time": "2020-12-06T09:41:43.984933Z"
    }
   },
   "outputs": [
    {
     "data": {
      "text/plain": [
       "LogisticRegression(C=0.01)"
      ]
     },
     "execution_count": 42,
     "metadata": {},
     "output_type": "execute_result"
    }
   ],
   "source": [
    "# initialize the CountVectorizer with the hyperparameters found\n",
    "cvec_prod = CountVectorizer(lowercase=False, max_df=0.98,\n",
    "                            max_features=1000, min_df=10,\n",
    "                            ngram_range=(1, 3))\n",
    "\n",
    "# fit and transform the entire combined text\n",
    "X_transformed = cvec_prod.fit_transform(X)\n",
    "\n",
    "# initialiez the Logisticc Regression with the hyperparameters found\n",
    "lr_prod = LogisticRegression(C=0.01)\n",
    "\n",
    "# fit the model to the transformed X (text) and y (target)\n",
    "lr_prod.fit(X_transformed, y)"
   ]
  },
  {
   "cell_type": "code",
   "execution_count": 43,
   "metadata": {
    "ExecuteTime": {
     "end_time": "2020-12-06T09:41:44.346925Z",
     "start_time": "2020-12-06T09:41:44.143113Z"
    }
   },
   "outputs": [
    {
     "name": "stdout",
     "output_type": "stream",
     "text": [
      "Cross-validated Model Score\n",
      "---------------------------\n",
      "F1 Score: 0.686\n",
      "Precision Score: 0.658\n",
      "Recall Score: 0.717\n",
      "Accuracy Score: 0.671\n"
     ]
    }
   ],
   "source": [
    "# find model statistics by cross-validation\n",
    "print('Cross-validated Model Score')\n",
    "print('---------------------------')\n",
    "print(f\"F1 Score: {cross_val_score(lr_prod, X_transformed, y, scoring='f1').mean():.3f}\")\n",
    "print(f\"Precision Score: {cross_val_score(lr_prod, X_transformed, y, scoring='precision').mean():.3f}\")\n",
    "print(f\"Recall Score: {cross_val_score(lr_prod, X_transformed, y, scoring='recall').mean():.3f}\")\n",
    "print(f\"Accuracy Score: {cross_val_score(lr_prod, X_transformed, y).mean():.3f}\")"
   ]
  },
  {
   "cell_type": "code",
   "execution_count": 44,
   "metadata": {
    "ExecuteTime": {
     "end_time": "2020-12-06T09:41:44.362914Z",
     "start_time": "2020-12-06T09:41:44.348656Z"
    }
   },
   "outputs": [],
   "source": [
    "# create a list of tuples consisting of the word and its coefficient\n",
    "words_importance = [(word, lr_prod.coef_[0][index]) for word, index in cvec_prod.vocabulary_.items()]\n",
    "\n",
    "# create a dataframe using the list\n",
    "words_importance_df = pd.DataFrame(words_importance, columns=['Word', 'Word Coefficient'])\n",
    "\n",
    "# set the 'Word' column as index\n",
    "words_importance_df.set_index('Word', inplace=True)\n",
    "\n",
    "# create a column that gives the absolute coefficient of each word\n",
    "words_importance_df['Absolute Word Coefficient'] = abs(words_importance_df['Word Coefficient'])\n",
    "\n",
    "# sort the dataframe by the absolute coefficient of each word\n",
    "words_importance_df = words_importance_df.sort_values('Absolute Word Coefficient', ascending=False)\n",
    "\n",
    "# create a column that gives the change in the odds if the word is present\n",
    "words_importance_df['Change in Odds'] = np.exp(words_importance_df['Word Coefficient'])"
   ]
  },
  {
   "cell_type": "code",
   "execution_count": 45,
   "metadata": {
    "ExecuteTime": {
     "end_time": "2020-12-06T09:41:44.753673Z",
     "start_time": "2020-12-06T09:41:44.364913Z"
    },
    "scrolled": false
   },
   "outputs": [
    {
     "data": {
      "image/png": "[encoded data removed]",
      "text/plain": [
       "<Figure size 360x720 with 2 Axes>"
      ]
     },
     "metadata": {},
     "output_type": "display_data"
    }
   ],
   "source": [
    "# plot a heatmap of the change in odds\n",
    "plt.figure(figsize=(5, 10))\n",
    "sns.heatmap(words_importance_df[:20].sort_values('Change in Odds', ascending = False)[['Change in Odds']], \n",
    "            vmin = 0.75, vmax = 1.25, center = 1, annot = True, fmt='.4g',cmap = 'coolwarm', )\n",
    "plt.title('Change in Odds from Top 20 Most Important Words', fontsize = 15)\n",
    "plt.show()"
   ]
  },
  {
   "cell_type": "markdown",
   "metadata": {},
   "source": [
    "# Conclusion"
   ]
  },
  {
   "cell_type": "markdown",
   "metadata": {},
   "source": [
    "**Model Statistics**\n",
    "\n",
    "With the **final precision score of 0.658**, this is higher than the baseline model precision of 0.5 by 0.158. This translate to about **24% reduction in time spent** by employee picking dadjokes from a number of jokes containing both dadjokes and antijokes.\n",
    "\n",
    "The model has a higher recall score of 0.717, which means that the model is in fact better at identifying antijokes than identifying dadjokes. This could be because the antijokes have more \"identifiable\" words as compared to dadjokes.\n",
    "\n",
    "\\\n",
    "**Top 20 Words**\n",
    "\n",
    "Looking at the list of changes in odds of  top 20 words, it becomes apparent why the precision is quite low. Among the top 20 words, **only 4 of the words are identifiers of dadjokes** (with a change in odds above 1), while 16 of them are identifiers of antijokes (with a change in odds below 1).\n",
    "\n",
    "Surprisingly, the **identifying words for dadjokes are relatively common words** such as: \"my\", \"got\", \"it\", \"but\". Although, these words had a higher frequency evident from the top N words, I did not expect them to be strong predictors of dadjokes.\n",
    "\n",
    "On the other hand, **common words like \"and\", \"what\", \"man\", \"you\", \"the\" were strong predictors for antijokes**, this was not expected either. However, as expected, jokes with **\"walked in a bar\" were strong predictors of antijokes**. This was evident from the EDA portion as well. \n",
    "\n",
    "\\\n",
    "**Conclusion & Limitations**\n",
    "\n",
    "This project has obtained a classification model that **performs better than baseline prediction** for the classifying between dadjokes and antijokes. \n",
    "\n",
    "However, the classification model **does not have very high precision** as:\n",
    "1. both of type of jokes use **similar common English words** (not much specialized words)\n",
    "2. whether a joke is a dadjoke or antijoke is **very context based**, which this model is unable to comprehend\n",
    "\n",
    "To improve the model, **more sophisticated techniques that tries to explore the context of the jokes could be used**, such as POS tagging.\n",
    "\n",
    "Furthermore, the amount of records looked at by this project is only about 650 per dataset. With this number of records, it is **easy for the frequency of words to be affected by 1 or 2 entries**. \n",
    "- i.e. High frequency of \"step step\" from 1 single entry in bi-gram\n",
    "If more entries can be obtained for both dataset, it will help to improve the model to generalize better."
   ]
  },
  {
   "cell_type": "code",
   "execution_count": null,
   "metadata": {},
   "outputs": [],
   "source": []
  }
 ],
 "metadata": {
  "kernelspec": {
   "display_name": "Python 3",
   "language": "python",
   "name": "python3"
  },
  "language_info": {
   "codemirror_mode": {
    "name": "ipython",
    "version": 3
   },
   "file_extension": ".py",
   "mimetype": "text/x-python",
   "name": "python",
   "nbconvert_exporter": "python",
   "pygments_lexer": "ipython3",
   "version": "3.7.9"
  },
  "toc": {
   "base_numbering": 1,
   "nav_menu": {},
   "number_sections": false,
   "sideBar": true,
   "skip_h1_title": false,
   "title_cell": "Table of Contents",
   "title_sidebar": "Contents",
   "toc_cell": false,
   "toc_position": {
    "height": "calc(100% - 180px)",
    "left": "10px",
    "top": "150px",
    "width": "384px"
   },
   "toc_section_display": true,
   "toc_window_display": false
  }
 },
 "nbformat": 4,
 "nbformat_minor": 4
}
